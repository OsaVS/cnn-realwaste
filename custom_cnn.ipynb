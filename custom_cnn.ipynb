{
  "cells": [
    {
      "cell_type": "markdown",
      "metadata": {
        "id": "view-in-github",
        "colab_type": "text"
      },
      "source": [
        "<a href=\"https://colab.research.google.com/github/OsaVS/cnn-realwaste/blob/Original_img_size_50_epochs/custom_cnn.ipynb\" target=\"_parent\"><img src=\"https://colab.research.google.com/assets/colab-badge.svg\" alt=\"Open In Colab\"/></a>"
      ]
    },
    {
      "cell_type": "markdown",
      "id": "733bbec3",
      "metadata": {
        "id": "733bbec3"
      },
      "source": [
        "# Waste Material Classification using CNN\n",
        "\n",
        "This notebook implements a Convolutional Neural Network to classify waste materials into 9 categories: Cardboard, Food Organics, Glass, Metal, Miscellaneous Trash, Paper, Plastic, Textile Trash, and Vegetation.\n"
      ]
    },
    {
      "cell_type": "markdown",
      "id": "6bb8e488",
      "metadata": {
        "id": "6bb8e488"
      },
      "source": [
        "### Import Libraries"
      ]
    },
    {
      "cell_type": "code",
      "execution_count": 31,
      "id": "edfdaff6",
      "metadata": {
        "colab": {
          "base_uri": "https://localhost:8080/"
        },
        "id": "edfdaff6",
        "outputId": "da598399-bef1-4ef2-91f8-4aa6dbc66e76"
      },
      "outputs": [
        {
          "output_type": "stream",
          "name": "stdout",
          "text": [
            "Using device: cuda\n",
            "GPU: Tesla T4\n"
          ]
        }
      ],
      "source": [
        "import torch\n",
        "import torch.nn as nn\n",
        "import torch.optim as optim\n",
        "from torch.utils.data import Dataset, DataLoader, random_split\n",
        "import torchvision.transforms as transforms\n",
        "from torchvision import models\n",
        "\n",
        "import numpy as np\n",
        "import matplotlib.pyplot as plt\n",
        "import seaborn as sns\n",
        "from PIL import Image\n",
        "import os\n",
        "from pathlib import Path\n",
        "from sklearn.metrics import confusion_matrix, classification_report\n",
        "import time\n",
        "\n",
        "# Set random seeds for reproducibility\n",
        "torch.manual_seed(42)\n",
        "np.random.seed(42)\n",
        "\n",
        "# Check GPU availability\n",
        "device = torch.device('cuda' if torch.cuda.is_available() else 'cpu')\n",
        "print(f\"Using device: {device}\")\n",
        "if torch.cuda.is_available():\n",
        "    print(f\"GPU: {torch.cuda.get_device_name(0)}\")"
      ]
    },
    {
      "cell_type": "markdown",
      "metadata": {
        "id": "9cc4d18e"
      },
      "source": [
        "# Task\n",
        "Download the dataset \"rtti237/realwaste-dataset\" from Kaggle, load it, and train a CNN model for waste classification."
      ],
      "id": "9cc4d18e"
    },
    {
      "cell_type": "markdown",
      "metadata": {
        "id": "be5c6474"
      },
      "source": [
        "## Install kaggle\n",
        "\n",
        "### Subtask:\n",
        "Install the Kaggle library in the notebook environment.\n"
      ],
      "id": "be5c6474"
    },
    {
      "cell_type": "markdown",
      "metadata": {
        "id": "87039cfd"
      },
      "source": [
        "**Reasoning**:\n",
        "The subtask is to install the Kaggle library. The instruction specifies using `pip install kaggle` in a code cell.\n",
        "\n"
      ],
      "id": "87039cfd"
    },
    {
      "cell_type": "code",
      "metadata": {
        "colab": {
          "base_uri": "https://localhost:8080/"
        },
        "id": "dbf8556b",
        "outputId": "5b5e681e-f985-42a0-b146-6d8f07370b8e"
      },
      "source": [
        "%pip install kaggle"
      ],
      "id": "dbf8556b",
      "execution_count": 32,
      "outputs": [
        {
          "output_type": "stream",
          "name": "stdout",
          "text": [
            "Requirement already satisfied: kaggle in /usr/local/lib/python3.12/dist-packages (1.7.4.5)\n",
            "Requirement already satisfied: bleach in /usr/local/lib/python3.12/dist-packages (from kaggle) (6.2.0)\n",
            "Requirement already satisfied: certifi>=14.05.14 in /usr/local/lib/python3.12/dist-packages (from kaggle) (2025.10.5)\n",
            "Requirement already satisfied: charset-normalizer in /usr/local/lib/python3.12/dist-packages (from kaggle) (3.4.4)\n",
            "Requirement already satisfied: idna in /usr/local/lib/python3.12/dist-packages (from kaggle) (3.11)\n",
            "Requirement already satisfied: protobuf in /usr/local/lib/python3.12/dist-packages (from kaggle) (5.29.5)\n",
            "Requirement already satisfied: python-dateutil>=2.5.3 in /usr/local/lib/python3.12/dist-packages (from kaggle) (2.9.0.post0)\n",
            "Requirement already satisfied: python-slugify in /usr/local/lib/python3.12/dist-packages (from kaggle) (8.0.4)\n",
            "Requirement already satisfied: requests in /usr/local/lib/python3.12/dist-packages (from kaggle) (2.32.4)\n",
            "Requirement already satisfied: setuptools>=21.0.0 in /usr/local/lib/python3.12/dist-packages (from kaggle) (75.2.0)\n",
            "Requirement already satisfied: six>=1.10 in /usr/local/lib/python3.12/dist-packages (from kaggle) (1.17.0)\n",
            "Requirement already satisfied: text-unidecode in /usr/local/lib/python3.12/dist-packages (from kaggle) (1.3)\n",
            "Requirement already satisfied: tqdm in /usr/local/lib/python3.12/dist-packages (from kaggle) (4.67.1)\n",
            "Requirement already satisfied: urllib3>=1.15.1 in /usr/local/lib/python3.12/dist-packages (from kaggle) (2.5.0)\n",
            "Requirement already satisfied: webencodings in /usr/local/lib/python3.12/dist-packages (from kaggle) (0.5.1)\n"
          ]
        }
      ]
    },
    {
      "cell_type": "markdown",
      "metadata": {
        "id": "7a89c955"
      },
      "source": [
        "## Set up kaggle credentials\n",
        "\n",
        "### Subtask:\n",
        "Guide the user on how to obtain their Kaggle API key and store it securely in the notebook environment.\n"
      ],
      "id": "7a89c955"
    },
    {
      "cell_type": "markdown",
      "metadata": {
        "id": "6a8a9dbe"
      },
      "source": [
        "**Reasoning**:\n",
        "Provide instructions to the user on how to obtain their Kaggle API key and securely store it in the notebook environment.\n",
        "\n"
      ],
      "id": "6a8a9dbe"
    },
    {
      "cell_type": "code",
      "metadata": {
        "colab": {
          "base_uri": "https://localhost:8080/"
        },
        "id": "0ef8043e",
        "outputId": "47a989ed-ba53-4432-d3b5-18cfdef536c0"
      },
      "source": [
        "print(\"Please follow these steps to obtain and store your Kaggle API key:\")\n",
        "print(\"1. Go to your Kaggle account settings.\")\n",
        "print(\"2. Under the 'API' section, click 'Create New API Token'. This will download a 'kaggle.json' file.\")\n",
        "print(\"3. In the notebook environment, navigate to the file explorer (usually a folder icon on the left sidebar).\")\n",
        "print(\"4. Click the upload button (usually an upward arrow icon) and upload the 'kaggle.json' file you just downloaded.\")\n",
        "print(\"5. Run the following code in a code cell to create the necessary directory and move the uploaded 'kaggle.json' file to that directory:\")\n",
        "print(\"\\n!mkdir -p ~/.kaggle\")\n",
        "print(\"!mv kaggle.json ~/.kaggle/\")\n",
        "print(\"!chmod 600 ~/.kaggle/kaggle.json\")"
      ],
      "id": "0ef8043e",
      "execution_count": 33,
      "outputs": [
        {
          "output_type": "stream",
          "name": "stdout",
          "text": [
            "Please follow these steps to obtain and store your Kaggle API key:\n",
            "1. Go to your Kaggle account settings.\n",
            "2. Under the 'API' section, click 'Create New API Token'. This will download a 'kaggle.json' file.\n",
            "3. In the notebook environment, navigate to the file explorer (usually a folder icon on the left sidebar).\n",
            "4. Click the upload button (usually an upward arrow icon) and upload the 'kaggle.json' file you just downloaded.\n",
            "5. Run the following code in a code cell to create the necessary directory and move the uploaded 'kaggle.json' file to that directory:\n",
            "\n",
            "!mkdir -p ~/.kaggle\n",
            "!mv kaggle.json ~/.kaggle/\n",
            "!chmod 600 ~/.kaggle/kaggle.json\n"
          ]
        }
      ]
    },
    {
      "cell_type": "code",
      "source": [
        "!mkdir -p ~/.kaggle"
      ],
      "metadata": {
        "id": "-dzhZuL0nOTF"
      },
      "id": "-dzhZuL0nOTF",
      "execution_count": 34,
      "outputs": []
    },
    {
      "cell_type": "code",
      "source": [
        "!mv kaggle.json ~/.kaggle/"
      ],
      "metadata": {
        "colab": {
          "base_uri": "https://localhost:8080/"
        },
        "id": "Cdb3Y7b7nTms",
        "outputId": "de9cc13b-aaf9-40f8-fa00-2bede3775472"
      },
      "id": "Cdb3Y7b7nTms",
      "execution_count": 35,
      "outputs": [
        {
          "output_type": "stream",
          "name": "stdout",
          "text": [
            "mv: cannot stat 'kaggle.json': No such file or directory\n"
          ]
        }
      ]
    },
    {
      "cell_type": "code",
      "source": [
        "!chmod 600 ~/.kaggle/kaggle.json"
      ],
      "metadata": {
        "id": "nQi7G6K5nV_T"
      },
      "id": "nQi7G6K5nV_T",
      "execution_count": 36,
      "outputs": []
    },
    {
      "cell_type": "markdown",
      "metadata": {
        "id": "49e5f389"
      },
      "source": [
        "## Download dataset\n",
        "\n",
        "### Subtask:\n",
        "Write the code to download the specified dataset from Kaggle using the installed library and credentials.\n"
      ],
      "id": "49e5f389"
    },
    {
      "cell_type": "markdown",
      "metadata": {
        "id": "6c6984af"
      },
      "source": [
        "**Reasoning**:\n",
        "Download the specified dataset from Kaggle and unzip it.\n",
        "\n"
      ],
      "id": "6c6984af"
    },
    {
      "cell_type": "markdown",
      "source": [],
      "metadata": {
        "id": "WOokzy4Ton9s"
      },
      "id": "WOokzy4Ton9s"
    },
    {
      "cell_type": "code",
      "metadata": {
        "colab": {
          "base_uri": "https://localhost:8080/"
        },
        "id": "7bd022a0",
        "outputId": "19c14c0a-67bc-4752-c720-7695400e03f8"
      },
      "source": [
        "import kaggle\n",
        "kaggle.api.dataset_download_files('rtti237/realwaste-dataset', unzip=True)"
      ],
      "id": "7bd022a0",
      "execution_count": 37,
      "outputs": [
        {
          "output_type": "stream",
          "name": "stdout",
          "text": [
            "Dataset URL: https://www.kaggle.com/datasets/rtti237/realwaste-dataset\n"
          ]
        }
      ]
    },
    {
      "cell_type": "markdown",
      "metadata": {
        "id": "e8c3dc4d"
      },
      "source": [
        "## Verify dataset location\n",
        "\n",
        "### Subtask:\n",
        "Show the user where the downloaded dataset is located in the notebook's file system.\n"
      ],
      "id": "e8c3dc4d"
    },
    {
      "cell_type": "markdown",
      "metadata": {
        "id": "94f97a54"
      },
      "source": [
        "**Reasoning**:\n",
        "List the contents of the current directory to show the downloaded dataset files and folders.\n",
        "\n"
      ],
      "id": "94f97a54"
    },
    {
      "cell_type": "code",
      "metadata": {
        "colab": {
          "base_uri": "https://localhost:8080/"
        },
        "id": "566e5843",
        "outputId": "d0e67000-cf13-4284-9a18-ac9b82f078a8"
      },
      "source": [
        "%ls"
      ],
      "id": "566e5843",
      "execution_count": 38,
      "outputs": [
        {
          "output_type": "stream",
          "name": "stdout",
          "text": [
            "\u001b[0m\u001b[01;34mRealWaste\u001b[0m/  \u001b[01;34msample_data\u001b[0m/  training_history.png\n"
          ]
        }
      ]
    },
    {
      "cell_type": "markdown",
      "metadata": {
        "id": "b6b017b0"
      },
      "source": [
        "## Update data dir\n",
        "\n",
        "### Subtask:\n",
        "Modify the `DATA_DIR` variable to point to the location of the downloaded dataset.\n"
      ],
      "id": "b6b017b0"
    },
    {
      "cell_type": "markdown",
      "metadata": {
        "id": "c7018b46"
      },
      "source": [
        "**Reasoning**:\n",
        "Update the DATA_DIR variable to the correct path of the downloaded dataset directory, which is 'RealWaste' in the current directory.\n",
        "\n"
      ],
      "id": "c7018b46"
    },
    {
      "cell_type": "code",
      "metadata": {
        "colab": {
          "base_uri": "https://localhost:8080/"
        },
        "id": "78178155",
        "outputId": "a71f0ad0-8597-446f-ef4c-acddbf4fa30f"
      },
      "source": [
        "DATA_DIR = './RealWaste'\n",
        "print(f\"Updated DATA_DIR: {DATA_DIR}\")"
      ],
      "id": "78178155",
      "execution_count": 39,
      "outputs": [
        {
          "output_type": "stream",
          "name": "stdout",
          "text": [
            "Updated DATA_DIR: ./RealWaste\n"
          ]
        }
      ]
    },
    {
      "cell_type": "markdown",
      "id": "ffa1819c",
      "metadata": {
        "id": "ffa1819c"
      },
      "source": [
        "## Dataset Configuration\n",
        "- Resize the 524x524 to 224x224\n",
        "- Set the batch size to 32. The number of data samples (images) that will be processed simultaneously during one forward/backward pass of the model\n",
        "- Number of distinct classes for which the classification should be done is set to 9.\n",
        "- Total number of epoch count is set to 20."
      ]
    },
    {
      "cell_type": "code",
      "execution_count": 40,
      "id": "0a65bfee",
      "metadata": {
        "id": "0a65bfee"
      },
      "outputs": [],
      "source": [
        "# Dataset parameters\n",
        "IMAGE_SIZE = 524 # Updated image size\n",
        "BATCH_SIZE = 32\n",
        "NUM_CLASSES = 9\n",
        "NUM_EPOCHS = 50\n",
        "\n",
        "# Class names and their counts\n",
        "CLASS_NAMES = [\n",
        "    'Cardboard',         # 461\n",
        "    'Food_Organics',     # 411\n",
        "    'Glass',             # 420\n",
        "    'Metal',             # 790\n",
        "    'Miscellaneous',     # 495\n",
        "    'Paper',             # 500\n",
        "    'Plastic',           # 921\n",
        "    'Textile',           # 318\n",
        "    'Vegetation'         # 436\n",
        "]\n",
        "\n",
        "# DATA_DIR = '/home/ravindu/Documents/Projects/cnn-realwaste/realwaste/realwaste-main/RealWaste'"
      ]
    },
    {
      "cell_type": "markdown",
      "id": "e8a06ace",
      "metadata": {
        "id": "e8a06ace"
      },
      "source": [
        "## Dataset class"
      ]
    },
    {
      "cell_type": "code",
      "execution_count": 41,
      "id": "e64058e3",
      "metadata": {
        "id": "e64058e3"
      },
      "outputs": [],
      "source": [
        "class WasteDataset(Dataset):\n",
        "    \"\"\"Custom Dataset for loading waste material images\"\"\"\n",
        "\n",
        "    def __init__(self, root_dir, transform=None):\n",
        "        \"\"\"\n",
        "        Args:\n",
        "            root_dir (string): Directory with all the class folders\n",
        "            transform (callable, optional): Optional transform to be applied on images\n",
        "        \"\"\"\n",
        "        self.root_dir = Path(root_dir)\n",
        "        self.transform = transform\n",
        "        self.images = []\n",
        "        self.labels = []\n",
        "\n",
        "        # Load all images and labels\n",
        "        for class_idx, class_name in enumerate(CLASS_NAMES):\n",
        "            class_dir = self.root_dir / class_name\n",
        "            if class_dir.exists():\n",
        "                for img_path in class_dir.glob('*.*'):\n",
        "                    if img_path.suffix.lower() in ['.jpg', '.jpeg', '.png']:\n",
        "                        self.images.append(str(img_path))\n",
        "                        self.labels.append(class_idx)\n",
        "\n",
        "        print(f\"Loaded {len(self.images)} images from {len(CLASS_NAMES)} classes\")\n",
        "\n",
        "    def __len__(self):\n",
        "        return len(self.images)\n",
        "\n",
        "    def __getitem__(self, idx):\n",
        "        img_path = self.images[idx]\n",
        "        image = Image.open(img_path).convert('RGB')\n",
        "        label = self.labels[idx]\n",
        "\n",
        "        if self.transform:\n",
        "            image = self.transform(image)\n",
        "\n",
        "        return image, label"
      ]
    },
    {
      "cell_type": "markdown",
      "id": "bb4c5c34",
      "metadata": {
        "id": "bb4c5c34"
      },
      "source": [
        "## Calculating normalization values\n",
        "- Calculate μ and σ for each channel (R, G, B) of the specific training set using 1000 images from that dataset."
      ]
    },
    {
      "cell_type": "code",
      "execution_count": 42,
      "id": "925caa4a",
      "metadata": {
        "colab": {
          "base_uri": "https://localhost:8080/"
        },
        "id": "925caa4a",
        "outputId": "dc2ceb02-bad9-41e4-ebc6-46d93b3b68aa"
      },
      "outputs": [
        {
          "output_type": "stream",
          "name": "stdout",
          "text": [
            "Loaded 3528 images from 9 classes\n"
          ]
        },
        {
          "output_type": "stream",
          "name": "stderr",
          "text": [
            "/usr/local/lib/python3.12/dist-packages/torch/utils/data/dataloader.py:627: UserWarning: This DataLoader will create 4 worker processes in total. Our suggested max number of worker in current system is 2, which is smaller than what this DataLoader is going to create. Please be aware that excessive worker creation might get DataLoader running slow or even freeze, lower the worker number to avoid potential slowness/freeze if necessary.\n",
            "  warnings.warn(\n"
          ]
        },
        {
          "output_type": "stream",
          "name": "stdout",
          "text": [
            "Dataset Mean (R, G, B): [0.5934, 0.6175, 0.6335]\n",
            "Dataset Std (R, G, B): [0.1702, 0.1699, 0.1934]\n"
          ]
        }
      ],
      "source": [
        "def calculate_mean_std(dataset_path, image_size=224, sample_size=None):\n",
        "    transform = transforms.Compose([\n",
        "        transforms.Resize((image_size, image_size)),\n",
        "        transforms.ToTensor()\n",
        "    ])\n",
        "\n",
        "    temp_dataset = WasteDataset(root_dir=dataset_path, transform=transform)\n",
        "\n",
        "    if sample_size and sample_size < len(temp_dataset):\n",
        "        indices = np.random.choice(len(temp_dataset), sample_size, replace=False)\n",
        "        temp_dataset = torch.utils.data.Subset(temp_dataset, indices)\n",
        "\n",
        "    loader = DataLoader(temp_dataset, batch_size=32, shuffle=False, num_workers=4)\n",
        "\n",
        "    channels_sum = torch.zeros(3)\n",
        "    channels_squared_sum = torch.zeros(3)\n",
        "    num_pixels = 0\n",
        "\n",
        "    for images, _ in loader:\n",
        "        channels_sum += torch.mean(images, dim=[0, 2, 3]) * images.size(0)\n",
        "        channels_squared_sum += torch.mean(images ** 2, dim=[0, 2, 3]) * images.size(0)\n",
        "        num_pixels += images.size(0)\n",
        "\n",
        "    mean = channels_sum / num_pixels\n",
        "    std = torch.sqrt(channels_squared_sum / num_pixels - mean ** 2)\n",
        "\n",
        "    print(f\"Dataset Mean (R, G, B): [{mean[0]:.4f}, {mean[1]:.4f}, {mean[2]:.4f}]\")\n",
        "    print(f\"Dataset Std (R, G, B): [{std[0]:.4f}, {std[1]:.4f}, {std[2]:.4f}]\")\n",
        "\n",
        "    return mean.tolist(), std.tolist()\n",
        "\n",
        "dataset_mean, dataset_std = calculate_mean_std(DATA_DIR, IMAGE_SIZE, sample_size=1000)"
      ]
    },
    {
      "cell_type": "markdown",
      "id": "8e77d83e",
      "metadata": {
        "id": "8e77d83e"
      },
      "source": [
        "## Data augmentation and pre-processing\n",
        "### Training dataset\n",
        "- Resizing\n",
        "- Random horizontal flip\n",
        "- Random rotation\n",
        "- Color jitter (Randomly alter the brightness, contrast, and saturation)\n",
        "- Convert the image from a PIL Image to a PyTorch Tensor and automatically scale pixel values from [0,255] to the floating-point range of [0.0,1.0]\n",
        "- Standardize the Tensor data\n",
        "\n",
        "### Validation data set\n",
        "- Resizing\n",
        "- Tensor conversion\n",
        "- Normalization\n"
      ]
    },
    {
      "cell_type": "code",
      "execution_count": 43,
      "id": "0e5a0e16",
      "metadata": {
        "id": "0e5a0e16"
      },
      "outputs": [],
      "source": [
        "# Training transforms with data augmentation\n",
        "train_transform = transforms.Compose([\n",
        "    # transforms.Resize((IMAGE_SIZE, IMAGE_SIZE)),\n",
        "    transforms.RandomHorizontalFlip(p=0.5),\n",
        "    transforms.RandomRotation(15),\n",
        "    transforms.ColorJitter(brightness=0.2, contrast=0.2, saturation=0.2),\n",
        "    transforms.ToTensor(),\n",
        "    transforms.Normalize(mean=dataset_mean, std=dataset_std)\n",
        "])\n",
        "\n",
        "# Validation and test transforms (no augmentation)\n",
        "val_test_transform = transforms.Compose([\n",
        "    # transforms.Resize((IMAGE_SIZE, IMAGE_SIZE)),\n",
        "    transforms.ToTensor(),\n",
        "    transforms.Normalize(mean=dataset_mean, std=dataset_std)\n",
        "])"
      ]
    },
    {
      "cell_type": "markdown",
      "id": "569bb01c",
      "metadata": {
        "id": "569bb01c"
      },
      "source": [
        "## Load and split data set\n",
        "- Load the full data set and split it into 70% training, 15% validation and 15% testing.\n",
        "- Create the necessary data loaders"
      ]
    },
    {
      "cell_type": "code",
      "execution_count": 44,
      "id": "c1783caa",
      "metadata": {
        "colab": {
          "base_uri": "https://localhost:8080/"
        },
        "id": "c1783caa",
        "outputId": "5d97a93d-cc55-418c-a60f-dacb8414aca4"
      },
      "outputs": [
        {
          "output_type": "stream",
          "name": "stdout",
          "text": [
            "Loaded 3528 images from 9 classes\n",
            "\n",
            "Dataset Split:\n",
            "Training: 2469 images (70.0%)\n",
            "Validation: 529 images (15.0%)\n",
            "Testing: 530 images (15.0%)\n"
          ]
        }
      ],
      "source": [
        "full_dataset = WasteDataset(root_dir=DATA_DIR, transform=train_transform)\n",
        "\n",
        "total_size = len(full_dataset)\n",
        "train_size = int(0.70 * total_size)\n",
        "val_size = int(0.15 * total_size)\n",
        "test_size = total_size - train_size - val_size\n",
        "\n",
        "print(f\"\\nDataset Split:\")\n",
        "print(f\"Training: {train_size} images ({train_size/total_size*100:.1f}%)\")\n",
        "print(f\"Validation: {val_size} images ({val_size/total_size*100:.1f}%)\")\n",
        "print(f\"Testing: {test_size} images ({test_size/total_size*100:.1f}%)\")\n",
        "\n",
        "# Split dataset\n",
        "train_dataset, val_dataset, test_dataset = random_split(\n",
        "    full_dataset, [train_size, val_size, test_size],\n",
        "    generator=torch.Generator().manual_seed(42)\n",
        ")\n",
        "\n",
        "# Apply appropriate transforms\n",
        "val_dataset.dataset.transform = val_test_transform\n",
        "test_dataset.dataset.transform = val_test_transform\n",
        "\n",
        "# Create data loaders\n",
        "train_loader = DataLoader(train_dataset, batch_size=BATCH_SIZE,\n",
        "                         shuffle=True, num_workers=4, pin_memory=True)\n",
        "val_loader = DataLoader(val_dataset, batch_size=BATCH_SIZE,\n",
        "                       shuffle=False, num_workers=4, pin_memory=True)\n",
        "test_loader = DataLoader(test_dataset, batch_size=BATCH_SIZE,\n",
        "                        shuffle=False, num_workers=4, pin_memory=True)"
      ]
    },
    {
      "cell_type": "markdown",
      "id": "d0c827d9",
      "metadata": {
        "id": "d0c827d9"
      },
      "source": [
        "## CNN model architecture\n",
        "### Feature Extraction\n",
        "\n",
        "- Convo1ution layer 1: 32 filters, 5x5 kernel, ReLU activation\n",
        "- MaxPool: 2x2\n",
        "- Convo1ution layer 2: 64 filters, 3x3 kernel, ReLU activation\n",
        "- MaxPool: 2x2\n",
        "- Convo1ution layer 3: 128 filters, 3x3 kernel, ReLU activation (added for better feature extraction)\n",
        "- MaxPool: 2x2\n",
        "\n",
        "### Classification\n",
        "- Flatten\n",
        "- Fully Connected layer 1: 512 units, ReLU activation\n",
        "    - with Dropout: 0.5\n",
        "- Fully Connected layer 2: 256 units, ReLU activation\n",
        "    - With Dropout: 0.3\n",
        "- Output: 9 units, Softmax"
      ]
    },
    {
      "cell_type": "code",
      "execution_count": 45,
      "id": "2ccde982",
      "metadata": {
        "colab": {
          "base_uri": "https://localhost:8080/"
        },
        "id": "2ccde982",
        "outputId": "e8ed3e63-b1af-4481-f88d-42066b020ab6"
      },
      "outputs": [
        {
          "output_type": "stream",
          "name": "stdout",
          "text": [
            "\n",
            "======================================================================\n",
            "MODEL ARCHITECTURE\n",
            "======================================================================\n",
            "WasteCNN(\n",
            "  (conv_layers): Sequential(\n",
            "    (0): Conv2d(3, 32, kernel_size=(5, 5), stride=(1, 1), padding=(2, 2))\n",
            "    (1): BatchNorm2d(32, eps=1e-05, momentum=0.1, affine=True, track_running_stats=True)\n",
            "    (2): ReLU(inplace=True)\n",
            "    (3): MaxPool2d(kernel_size=2, stride=2, padding=0, dilation=1, ceil_mode=False)\n",
            "    (4): Conv2d(32, 64, kernel_size=(3, 3), stride=(1, 1), padding=(1, 1))\n",
            "    (5): BatchNorm2d(64, eps=1e-05, momentum=0.1, affine=True, track_running_stats=True)\n",
            "    (6): ReLU(inplace=True)\n",
            "    (7): MaxPool2d(kernel_size=2, stride=2, padding=0, dilation=1, ceil_mode=False)\n",
            "    (8): Conv2d(64, 128, kernel_size=(3, 3), stride=(1, 1), padding=(1, 1))\n",
            "    (9): BatchNorm2d(128, eps=1e-05, momentum=0.1, affine=True, track_running_stats=True)\n",
            "    (10): ReLU(inplace=True)\n",
            "    (11): MaxPool2d(kernel_size=2, stride=2, padding=0, dilation=1, ceil_mode=False)\n",
            "  )\n",
            "  (fc_layers): Sequential(\n",
            "    (0): Flatten(start_dim=1, end_dim=-1)\n",
            "    (1): Linear(in_features=540800, out_features=512, bias=True)\n",
            "    (2): ReLU(inplace=True)\n",
            "    (3): Dropout(p=0.5, inplace=False)\n",
            "    (4): Linear(in_features=512, out_features=256, bias=True)\n",
            "    (5): ReLU(inplace=True)\n",
            "    (6): Dropout(p=0.3, inplace=False)\n",
            "    (7): Linear(in_features=256, out_features=9, bias=True)\n",
            "  )\n",
            ")\n",
            "\n",
            "Total parameters: 277118985\n",
            "Trainable parameters: 277118985\n"
          ]
        }
      ],
      "source": [
        "class WasteCNN(nn.Module):\n",
        "\n",
        "    def __init__(self, num_classes=9):\n",
        "        super(WasteCNN, self).__init__()\n",
        "\n",
        "        # Convolutional layers\n",
        "        self.conv_layers = nn.Sequential(\n",
        "            # First convolutional block\n",
        "            nn.Conv2d(in_channels=3, out_channels=32, kernel_size=5, padding=2),\n",
        "            nn.BatchNorm2d(32),\n",
        "            nn.ReLU(inplace=True),\n",
        "            nn.MaxPool2d(kernel_size=2, stride=2),\n",
        "\n",
        "            # Second convolutional block\n",
        "            nn.Conv2d(in_channels=32, out_channels=64, kernel_size=3, padding=1),\n",
        "            nn.BatchNorm2d(64),\n",
        "            nn.ReLU(inplace=True),\n",
        "            nn.MaxPool2d(kernel_size=2, stride=2),\n",
        "\n",
        "            # Third convolutional block\n",
        "            nn.Conv2d(in_channels=64, out_channels=128, kernel_size=3, padding=1),\n",
        "            nn.BatchNorm2d(128),\n",
        "            nn.ReLU(inplace=True),\n",
        "            nn.MaxPool2d(kernel_size=2, stride=2)\n",
        "        )\n",
        "\n",
        "        # Input: 524x524 -> after 3 maxpools (2x2): 524 / (2*2*2) = 524 / 8 = 65.5\n",
        "        # Since the output size must be an integer, we need to be careful.\n",
        "        # Let's calculate the output size precisely after each layer.\n",
        "        # Input: (524, 524)\n",
        "        # Conv1: (524 - 5 + 2*2)/1 + 1 = 524, MaxPool1: 524/2 = 262\n",
        "        # Conv2: (262 - 3 + 2*1)/1 + 1 = 262, MaxPool2: 262/2 = 131\n",
        "        # Conv3: (131 - 3 + 2*1)/1 + 1 = 131, MaxPool3: 131/2 = 65 (floor)\n",
        "        self.flatten_size = 128 * 65 * 65\n",
        "\n",
        "        # Fully connected layers\n",
        "        self.fc_layers = nn.Sequential(\n",
        "            nn.Flatten(),\n",
        "            nn.Linear(self.flatten_size, 512),\n",
        "            nn.ReLU(inplace=True),\n",
        "            nn.Dropout(0.5),\n",
        "\n",
        "            nn.Linear(512, 256),\n",
        "            nn.ReLU(inplace=True),\n",
        "            nn.Dropout(0.3),\n",
        "\n",
        "            nn.Linear(256, num_classes)\n",
        "        )\n",
        "\n",
        "        # Initialize weights\n",
        "        self._initialize_weights()\n",
        "\n",
        "    def _initialize_weights(self):\n",
        "        \"\"\"Initialize model weights using He initialization\"\"\"\n",
        "\n",
        "        for m in self.modules():\n",
        "            if isinstance(m, nn.Conv2d):\n",
        "                nn.init.kaiming_normal_(m.weight, mode='fan_out', nonlinearity='relu')\n",
        "                if m.bias is not None:\n",
        "                    nn.init.constant_(m.bias, 0)\n",
        "            elif isinstance(m, nn.BatchNorm2d):\n",
        "                nn.init.constant_(m.weight, 1)\n",
        "                nn.init.constant_(m.bias, 0)\n",
        "            elif isinstance(m, nn.Linear):\n",
        "                nn.init.normal_(m.weight, 0, 0.01)\n",
        "                nn.init.constant_(m.bias, 0)\n",
        "\n",
        "    def forward(self, x):\n",
        "        x = self.conv_layers(x)\n",
        "        x = self.fc_layers(x)\n",
        "        return x\n",
        "\n",
        "# Create model and move to GPU\n",
        "model = WasteCNN(num_classes=NUM_CLASSES).to(device)\n",
        "\n",
        "print(\"\\n\" + \"=\"*70)\n",
        "print(\"MODEL ARCHITECTURE\")\n",
        "print(\"=\"*70)\n",
        "print(model)\n",
        "print(\"\\nTotal parameters:\", sum(p.numel() for p in model.parameters()))\n",
        "print(\"Trainable parameters:\", sum(p.numel() for p in model.parameters() if p.requires_grad))"
      ]
    },
    {
      "cell_type": "markdown",
      "id": "d2954952",
      "metadata": {
        "id": "d2954952"
      },
      "source": [
        "## Loss function and Optimizer\n",
        "- Loss function -> Cross entropy loss\n",
        "- Optimizer -> Adaptive Moment Estimation (ADAM)\n",
        "- Learning rate scheduler -> Reduce LR On Plateau"
      ]
    },
    {
      "cell_type": "code",
      "execution_count": 46,
      "id": "71d57e70",
      "metadata": {
        "id": "71d57e70"
      },
      "outputs": [],
      "source": [
        "# Loss function\n",
        "criterion = nn.CrossEntropyLoss()\n",
        "\n",
        "# Optimizer\n",
        "optimizer = optim.Adam(model.parameters(), lr=0.001, weight_decay=1e-4)\n",
        "\n",
        "# Learning rate scheduler\n",
        "scheduler = optim.lr_scheduler.ReduceLROnPlateau(\n",
        "    optimizer, mode='min', factor=0.5, patience=3\n",
        ")"
      ]
    },
    {
      "cell_type": "markdown",
      "id": "0aafcf79",
      "metadata": {
        "id": "0aafcf79"
      },
      "source": [
        "## Training and Validation"
      ]
    },
    {
      "cell_type": "code",
      "execution_count": 47,
      "id": "4dc8b35c",
      "metadata": {
        "id": "4dc8b35c"
      },
      "outputs": [],
      "source": [
        "def train_epoch(model, dataloader, criterion, optimizer, device):\n",
        "    \"\"\"Train the model for one epoch\"\"\"\n",
        "    model.train()\n",
        "    running_loss = 0.0\n",
        "    correct = 0\n",
        "    total = 0\n",
        "\n",
        "    for images, labels in dataloader:\n",
        "        images, labels = images.to(device), labels.to(device)\n",
        "\n",
        "        # Zero the gradients\n",
        "        optimizer.zero_grad()\n",
        "\n",
        "        # Forward pass\n",
        "        outputs = model(images)\n",
        "        loss = criterion(outputs, labels)\n",
        "\n",
        "        # Backward pass and optimize\n",
        "        loss.backward()\n",
        "        optimizer.step()\n",
        "\n",
        "        # Statistics\n",
        "        running_loss += loss.item() * images.size(0)\n",
        "        _, predicted = torch.max(outputs.data, 1)\n",
        "        total += labels.size(0)\n",
        "        correct += (predicted == labels).sum().item()\n",
        "\n",
        "    epoch_loss = running_loss / len(dataloader.dataset)\n",
        "    epoch_acc = 100 * correct / total\n",
        "\n",
        "    return epoch_loss, epoch_acc\n",
        "\n",
        "def validate_epoch(model, dataloader, criterion, device):\n",
        "    \"\"\"Validate the model\"\"\"\n",
        "    model.eval()\n",
        "    running_loss = 0.0\n",
        "    correct = 0\n",
        "    total = 0\n",
        "\n",
        "    with torch.no_grad():\n",
        "        for images, labels in dataloader:\n",
        "            images, labels = images.to(device), labels.to(device)\n",
        "\n",
        "            # Forward pass\n",
        "            outputs = model(images)\n",
        "            loss = criterion(outputs, labels)\n",
        "\n",
        "            # Statistics\n",
        "            running_loss += loss.item() * images.size(0)\n",
        "            _, predicted = torch.max(outputs.data, 1)\n",
        "            total += labels.size(0)\n",
        "            correct += (predicted == labels).sum().item()\n",
        "\n",
        "    epoch_loss = running_loss / len(dataloader.dataset)\n",
        "    epoch_acc = 100 * correct / total\n",
        "\n",
        "    return epoch_loss, epoch_acc"
      ]
    },
    {
      "cell_type": "markdown",
      "id": "05c03858",
      "metadata": {
        "id": "05c03858"
      },
      "source": [
        "## Training Loop"
      ]
    },
    {
      "cell_type": "code",
      "execution_count": 48,
      "id": "ac977b9d",
      "metadata": {
        "colab": {
          "base_uri": "https://localhost:8080/"
        },
        "id": "ac977b9d",
        "outputId": "0a273be7-9971-4fb7-e152-45fae4d3009c"
      },
      "outputs": [
        {
          "output_type": "stream",
          "name": "stdout",
          "text": [
            "Epoch [1/50] (48.81s) - Train Loss: 2.6719, Train Acc: 39.45% | Val Loss: 1.1670, Val Acc: 55.20%\n",
            "Epoch [2/50] (45.78s) - Train Loss: 1.2604, Train Acc: 49.86% | Val Loss: 1.0284, Val Acc: 62.38%\n",
            "Epoch [3/50] (46.65s) - Train Loss: 1.1509, Train Acc: 55.53% | Val Loss: 1.0896, Val Acc: 54.63%\n",
            "Epoch [4/50] (45.81s) - Train Loss: 1.1520, Train Acc: 56.78% | Val Loss: 0.9167, Val Acc: 64.65%\n",
            "Epoch [5/50] (46.71s) - Train Loss: 1.1404, Train Acc: 56.70% | Val Loss: 0.9043, Val Acc: 71.46%\n",
            "Epoch [6/50] (46.95s) - Train Loss: 1.0758, Train Acc: 58.65% | Val Loss: 0.8796, Val Acc: 69.38%\n",
            "Epoch [7/50] (45.92s) - Train Loss: 1.0535, Train Acc: 60.51% | Val Loss: 0.8629, Val Acc: 69.19%\n",
            "Epoch [8/50] (46.93s) - Train Loss: 1.0359, Train Acc: 61.97% | Val Loss: 0.9240, Val Acc: 69.19%\n",
            "Epoch [9/50] (46.63s) - Train Loss: 1.0262, Train Acc: 63.30% | Val Loss: 0.8908, Val Acc: 67.86%\n",
            "Epoch [10/50] (45.63s) - Train Loss: 1.0344, Train Acc: 61.44% | Val Loss: 0.8670, Val Acc: 68.62%\n",
            "Epoch [11/50] (46.26s) - Train Loss: 0.9210, Train Acc: 65.37% | Val Loss: 0.8491, Val Acc: 73.72%\n",
            "Epoch [12/50] (46.26s) - Train Loss: 0.8835, Train Acc: 66.79% | Val Loss: 0.7423, Val Acc: 72.59%\n",
            "Epoch [13/50] (45.88s) - Train Loss: 0.8828, Train Acc: 67.72% | Val Loss: 0.7891, Val Acc: 75.24%\n",
            "Epoch [14/50] (46.52s) - Train Loss: 0.9132, Train Acc: 66.95% | Val Loss: 0.8435, Val Acc: 70.70%\n",
            "Epoch [15/50] (46.12s) - Train Loss: 0.9219, Train Acc: 66.42% | Val Loss: 0.8010, Val Acc: 71.46%\n",
            "Epoch [16/50] (46.45s) - Train Loss: 0.9613, Train Acc: 64.80% | Val Loss: 0.7589, Val Acc: 74.29%\n",
            "Epoch [17/50] (46.50s) - Train Loss: 0.8353, Train Acc: 67.84% | Val Loss: 0.6646, Val Acc: 77.69%\n",
            "Epoch [18/50] (45.86s) - Train Loss: 0.7061, Train Acc: 72.99% | Val Loss: 0.6608, Val Acc: 75.43%\n",
            "Epoch [19/50] (46.32s) - Train Loss: 0.7029, Train Acc: 73.15% | Val Loss: 0.6778, Val Acc: 75.80%\n",
            "Epoch [20/50] (46.15s) - Train Loss: 0.6718, Train Acc: 74.16% | Val Loss: 0.6527, Val Acc: 76.75%\n",
            "Epoch [21/50] (46.12s) - Train Loss: 0.6570, Train Acc: 75.05% | Val Loss: 0.6454, Val Acc: 75.61%\n",
            "Epoch [22/50] (46.99s) - Train Loss: 0.6574, Train Acc: 74.77% | Val Loss: 0.6598, Val Acc: 76.94%\n",
            "Epoch [23/50] (45.43s) - Train Loss: 0.6005, Train Acc: 77.08% | Val Loss: 0.6157, Val Acc: 77.69%\n",
            "Epoch [24/50] (46.46s) - Train Loss: 0.6026, Train Acc: 77.16% | Val Loss: 0.6123, Val Acc: 77.13%\n",
            "Epoch [25/50] (47.07s) - Train Loss: 0.5860, Train Acc: 76.95% | Val Loss: 0.6301, Val Acc: 77.13%\n",
            "Epoch [26/50] (45.54s) - Train Loss: 0.5658, Train Acc: 79.18% | Val Loss: 0.6038, Val Acc: 78.26%\n",
            "Epoch [27/50] (46.39s) - Train Loss: 0.5580, Train Acc: 79.30% | Val Loss: 0.7582, Val Acc: 74.10%\n",
            "Epoch [28/50] (46.24s) - Train Loss: 0.7096, Train Acc: 74.16% | Val Loss: 0.7457, Val Acc: 74.48%\n",
            "Epoch [29/50] (46.25s) - Train Loss: 0.5968, Train Acc: 78.53% | Val Loss: 0.6632, Val Acc: 77.50%\n",
            "Epoch [30/50] (46.46s) - Train Loss: 0.5463, Train Acc: 79.59% | Val Loss: 0.6304, Val Acc: 78.45%\n",
            "Epoch [31/50] (45.97s) - Train Loss: 0.4634, Train Acc: 82.79% | Val Loss: 0.6048, Val Acc: 80.53%\n",
            "Epoch [32/50] (46.35s) - Train Loss: 0.4179, Train Acc: 83.52% | Val Loss: 0.6114, Val Acc: 80.15%\n",
            "Epoch [33/50] (47.03s) - Train Loss: 0.4384, Train Acc: 83.19% | Val Loss: 0.5962, Val Acc: 78.26%\n",
            "Epoch [34/50] (46.15s) - Train Loss: 0.4046, Train Acc: 84.04% | Val Loss: 0.5960, Val Acc: 80.15%\n",
            "Epoch [35/50] (46.26s) - Train Loss: 0.3854, Train Acc: 84.49% | Val Loss: 0.6081, Val Acc: 79.96%\n",
            "Epoch [36/50] (46.79s) - Train Loss: 0.3667, Train Acc: 85.58% | Val Loss: 0.6246, Val Acc: 79.96%\n",
            "Epoch [37/50] (45.54s) - Train Loss: 0.3621, Train Acc: 85.78% | Val Loss: 0.5874, Val Acc: 81.10%\n",
            "Epoch [38/50] (45.81s) - Train Loss: 0.3709, Train Acc: 85.95% | Val Loss: 0.6129, Val Acc: 80.72%\n",
            "Epoch [39/50] (46.79s) - Train Loss: 0.3798, Train Acc: 85.74% | Val Loss: 0.5846, Val Acc: 79.58%\n",
            "Epoch [40/50] (46.03s) - Train Loss: 0.3286, Train Acc: 86.59% | Val Loss: 0.6126, Val Acc: 79.21%\n",
            "Epoch [41/50] (46.29s) - Train Loss: 0.3567, Train Acc: 86.47% | Val Loss: 0.6105, Val Acc: 79.40%\n",
            "Epoch [42/50] (46.61s) - Train Loss: 0.3219, Train Acc: 87.48% | Val Loss: 0.5982, Val Acc: 80.34%\n",
            "Epoch [43/50] (45.62s) - Train Loss: 0.3155, Train Acc: 88.05% | Val Loss: 0.6724, Val Acc: 77.88%\n",
            "Epoch [44/50] (46.49s) - Train Loss: 0.2971, Train Acc: 88.09% | Val Loss: 0.5811, Val Acc: 81.10%\n",
            "Epoch [45/50] (45.78s) - Train Loss: 0.2631, Train Acc: 89.79% | Val Loss: 0.5751, Val Acc: 81.29%\n",
            "Epoch [46/50] (46.81s) - Train Loss: 0.2767, Train Acc: 89.06% | Val Loss: 0.6064, Val Acc: 81.29%\n",
            "Epoch [47/50] (46.82s) - Train Loss: 0.2949, Train Acc: 88.62% | Val Loss: 0.5895, Val Acc: 81.10%\n",
            "Epoch [48/50] (45.59s) - Train Loss: 0.2556, Train Acc: 89.75% | Val Loss: 0.6487, Val Acc: 80.15%\n",
            "Epoch [49/50] (46.55s) - Train Loss: 0.2503, Train Acc: 89.83% | Val Loss: 0.6233, Val Acc: 80.34%\n",
            "Epoch [50/50] (46.59s) - Train Loss: 0.2426, Train Acc: 90.64% | Val Loss: 0.6153, Val Acc: 80.53%\n",
            "\n",
            "Training completed in 38.62 minutes\n"
          ]
        },
        {
          "output_type": "execute_result",
          "data": {
            "text/plain": [
              "<All keys matched successfully>"
            ]
          },
          "metadata": {},
          "execution_count": 48
        }
      ],
      "source": [
        "# Lists to store history\n",
        "train_losses = []\n",
        "val_losses = []\n",
        "train_accs = []\n",
        "val_accs = []\n",
        "\n",
        "best_val_loss = float('inf')\n",
        "best_model_state = None\n",
        "\n",
        "start_time = time.time()\n",
        "\n",
        "for epoch in range(NUM_EPOCHS):\n",
        "    epoch_start_time = time.time()\n",
        "\n",
        "    # Train\n",
        "    train_loss, train_acc = train_epoch(model, train_loader, criterion, optimizer, device)\n",
        "\n",
        "    # Validate\n",
        "    val_loss, val_acc = validate_epoch(model, val_loader, criterion, device)\n",
        "\n",
        "    # Store history\n",
        "    train_losses.append(train_loss)\n",
        "    val_losses.append(val_loss)\n",
        "    train_accs.append(train_acc)\n",
        "    val_accs.append(val_acc)\n",
        "\n",
        "    # Learning rate scheduling\n",
        "    scheduler.step(val_loss)\n",
        "\n",
        "    # Save best model\n",
        "    if val_loss < best_val_loss:\n",
        "        best_val_loss = val_loss\n",
        "        best_model_state = model.state_dict().copy()\n",
        "\n",
        "    epoch_time = time.time() - epoch_start_time\n",
        "\n",
        "    # Print progress\n",
        "    print(f\"Epoch [{epoch+1}/{NUM_EPOCHS}] ({epoch_time:.2f}s) - \"\n",
        "          f\"Train Loss: {train_loss:.4f}, Train Acc: {train_acc:.2f}% | \"\n",
        "          f\"Val Loss: {val_loss:.4f}, Val Acc: {val_acc:.2f}%\")\n",
        "\n",
        "total_time = time.time() - start_time\n",
        "print(f\"\\nTraining completed in {total_time/60:.2f} minutes\")\n",
        "\n",
        "model.load_state_dict(best_model_state)"
      ]
    },
    {
      "cell_type": "markdown",
      "id": "eb4172ec",
      "metadata": {
        "id": "eb4172ec"
      },
      "source": [
        "## Training history graphs"
      ]
    },
    {
      "cell_type": "code",
      "execution_count": 49,
      "id": "ed251ef9",
      "metadata": {
        "colab": {
          "base_uri": "https://localhost:8080/",
          "height": 378
        },
        "id": "ed251ef9",
        "outputId": "0e26acb7-dd9f-4365-c2ce-76d5a395892e"
      },
      "outputs": [
        {
          "output_type": "display_data",
          "data": {
            "text/plain": [
              "<Figure size 1500x500 with 2 Axes>"
            ],
            "image/png": "[encoded data removed]"
          },
          "metadata": {}
        },
        {
          "output_type": "stream",
          "name": "stdout",
          "text": [
            "\n",
            "Best validation loss: 0.5751\n"
          ]
        }
      ],
      "source": [
        "fig, axes = plt.subplots(1, 2, figsize=(15, 5))\n",
        "\n",
        "# Plot loss\n",
        "axes[0].plot(range(1, NUM_EPOCHS+1), train_losses, 'b-', label='Training Loss', linewidth=2)\n",
        "axes[0].plot(range(1, NUM_EPOCHS+1), val_losses, 'r-', label='Validation Loss', linewidth=2)\n",
        "axes[0].set_xlabel('Epoch', fontsize=12)\n",
        "axes[0].set_ylabel('Loss', fontsize=12)\n",
        "axes[0].set_title('Training and Validation Loss', fontsize=14, fontweight='bold')\n",
        "axes[0].legend(fontsize=10)\n",
        "axes[0].grid(True, alpha=0.3)\n",
        "\n",
        "# Plot accuracy\n",
        "axes[1].plot(range(1, NUM_EPOCHS+1), train_accs, 'b-', label='Training Accuracy', linewidth=2)\n",
        "axes[1].plot(range(1, NUM_EPOCHS+1), val_accs, 'r-', label='Validation Accuracy', linewidth=2)\n",
        "axes[1].set_xlabel('Epoch', fontsize=12)\n",
        "axes[1].set_ylabel('Accuracy (%)', fontsize=12)\n",
        "axes[1].set_title('Training and Validation Accuracy', fontsize=14, fontweight='bold')\n",
        "axes[1].legend(fontsize=10)\n",
        "axes[1].grid(True, alpha=0.3)\n",
        "\n",
        "plt.tight_layout()\n",
        "plt.savefig('training_history.png', dpi=300, bbox_inches='tight')\n",
        "plt.show()\n",
        "\n",
        "print(f\"\\nBest validation loss: {best_val_loss:.4f}\")"
      ]
    },
    {
      "cell_type": "markdown",
      "id": "6c27a788",
      "metadata": {
        "id": "6c27a788"
      },
      "source": [
        "## Evaluation on test set"
      ]
    },
    {
      "cell_type": "code",
      "execution_count": 50,
      "id": "c8d30d81",
      "metadata": {
        "colab": {
          "base_uri": "https://localhost:8080/"
        },
        "id": "c8d30d81",
        "outputId": "8a9a52e7-16d6-4044-f9db-f2bad8077c40"
      },
      "outputs": [
        {
          "output_type": "stream",
          "name": "stdout",
          "text": [
            "\n",
            "Test Accuracy: 79.06%\n"
          ]
        }
      ],
      "source": [
        "model.eval()\n",
        "all_preds = []\n",
        "all_labels = []\n",
        "\n",
        "with torch.no_grad():\n",
        "    for images, labels in test_loader:\n",
        "        images, labels = images.to(device), labels.to(device)\n",
        "        outputs = model(images)\n",
        "        _, predicted = torch.max(outputs.data, 1)\n",
        "\n",
        "        all_preds.extend(predicted.cpu().numpy())\n",
        "        all_labels.extend(labels.cpu().numpy())\n",
        "\n",
        "# Calculate test accuracy\n",
        "test_accuracy = 100 * np.sum(np.array(all_preds) == np.array(all_labels)) / len(all_labels)\n",
        "print(f\"\\nTest Accuracy: {test_accuracy:.2f}%\")"
      ]
    }
  ],
  "metadata": {
    "kernelspec": {
      "display_name": "Python 3",
      "name": "python3"
    },
    "language_info": {
      "codemirror_mode": {
        "name": "ipython",
        "version": 3
      },
      "file_extension": ".py",
      "mimetype": "text/x-python",
      "name": "python",
      "nbconvert_exporter": "python",
      "pygments_lexer": "ipython3",
      "version": "3.13.7"
    },
    "colab": {
      "provenance": [],
      "gpuType": "T4",
      "include_colab_link": true
    },
    "accelerator": "GPU"
  },
  "nbformat": 4,
  "nbformat_minor": 5
}