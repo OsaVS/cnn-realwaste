{
  "cells": [
    {
      "cell_type": "markdown",
      "metadata": {
        "id": "view-in-github",
        "colab_type": "text"
      },
      "source": [
        "<a href=\"https://colab.research.google.com/github/OsaVS/cnn-realwaste/blob/Incresed_Epochs/custom_cnn.ipynb\" target=\"_parent\"><img src=\"https://colab.research.google.com/assets/colab-badge.svg\" alt=\"Open In Colab\"/></a>"
      ]
    },
    {
      "cell_type": "markdown",
      "id": "733bbec3",
      "metadata": {
        "id": "733bbec3"
      },
      "source": [
        "# Waste Material Classification using CNN\n",
        "\n",
        "This notebook implements a Convolutional Neural Network to classify waste materials into 9 categories: Cardboard, Food Organics, Glass, Metal, Miscellaneous Trash, Paper, Plastic, Textile Trash, and Vegetation.\n"
      ]
    },
    {
      "cell_type": "markdown",
      "id": "6bb8e488",
      "metadata": {
        "id": "6bb8e488"
      },
      "source": [
        "### Import Libraries"
      ]
    },
    {
      "cell_type": "code",
      "execution_count": 8,
      "id": "edfdaff6",
      "metadata": {
        "colab": {
          "base_uri": "https://localhost:8080/"
        },
        "id": "edfdaff6",
        "outputId": "e7e69fe2-bffc-45c9-bce4-72816c6743fa"
      },
      "outputs": [
        {
          "output_type": "stream",
          "name": "stdout",
          "text": [
            "Using device: cuda\n",
            "GPU: Tesla T4\n"
          ]
        }
      ],
      "source": [
        "import torch\n",
        "import torch.nn as nn\n",
        "import torch.optim as optim\n",
        "from torch.utils.data import Dataset, DataLoader, random_split\n",
        "import torchvision.transforms as transforms\n",
        "from torchvision import models\n",
        "\n",
        "import numpy as np\n",
        "import matplotlib.pyplot as plt\n",
        "import seaborn as sns\n",
        "from PIL import Image\n",
        "import os\n",
        "from pathlib import Path\n",
        "from sklearn.metrics import confusion_matrix, classification_report\n",
        "import time\n",
        "\n",
        "# Set random seeds for reproducibility\n",
        "torch.manual_seed(42)\n",
        "np.random.seed(42)\n",
        "\n",
        "# Check GPU availability\n",
        "device = torch.device('cuda' if torch.cuda.is_available() else 'cpu')\n",
        "print(f\"Using device: {device}\")\n",
        "if torch.cuda.is_available():\n",
        "    print(f\"GPU: {torch.cuda.get_device_name(0)}\")"
      ]
    },
    {
      "cell_type": "markdown",
      "metadata": {
        "id": "9cc4d18e"
      },
      "source": [
        "# Task\n",
        "Download the dataset \"rtti237/realwaste-dataset\" from Kaggle, load it, and train a CNN model for waste classification."
      ],
      "id": "9cc4d18e"
    },
    {
      "cell_type": "markdown",
      "metadata": {
        "id": "be5c6474"
      },
      "source": [
        "## Install kaggle\n",
        "\n",
        "### Subtask:\n",
        "Install the Kaggle library in the notebook environment.\n"
      ],
      "id": "be5c6474"
    },
    {
      "cell_type": "markdown",
      "metadata": {
        "id": "87039cfd"
      },
      "source": [
        "**Reasoning**:\n",
        "The subtask is to install the Kaggle library. The instruction specifies using `pip install kaggle` in a code cell.\n",
        "\n"
      ],
      "id": "87039cfd"
    },
    {
      "cell_type": "code",
      "metadata": {
        "colab": {
          "base_uri": "https://localhost:8080/"
        },
        "id": "dbf8556b",
        "outputId": "4f9ff6ac-ded5-45f8-e1bb-70ac33002f41"
      },
      "source": [
        "%pip install kaggle"
      ],
      "id": "dbf8556b",
      "execution_count": 9,
      "outputs": [
        {
          "output_type": "stream",
          "name": "stdout",
          "text": [
            "Requirement already satisfied: kaggle in /usr/local/lib/python3.12/dist-packages (1.7.4.5)\n",
            "Requirement already satisfied: bleach in /usr/local/lib/python3.12/dist-packages (from kaggle) (6.2.0)\n",
            "Requirement already satisfied: certifi>=14.05.14 in /usr/local/lib/python3.12/dist-packages (from kaggle) (2025.10.5)\n",
            "Requirement already satisfied: charset-normalizer in /usr/local/lib/python3.12/dist-packages (from kaggle) (3.4.4)\n",
            "Requirement already satisfied: idna in /usr/local/lib/python3.12/dist-packages (from kaggle) (3.11)\n",
            "Requirement already satisfied: protobuf in /usr/local/lib/python3.12/dist-packages (from kaggle) (5.29.5)\n",
            "Requirement already satisfied: python-dateutil>=2.5.3 in /usr/local/lib/python3.12/dist-packages (from kaggle) (2.9.0.post0)\n",
            "Requirement already satisfied: python-slugify in /usr/local/lib/python3.12/dist-packages (from kaggle) (8.0.4)\n",
            "Requirement already satisfied: requests in /usr/local/lib/python3.12/dist-packages (from kaggle) (2.32.4)\n",
            "Requirement already satisfied: setuptools>=21.0.0 in /usr/local/lib/python3.12/dist-packages (from kaggle) (75.2.0)\n",
            "Requirement already satisfied: six>=1.10 in /usr/local/lib/python3.12/dist-packages (from kaggle) (1.17.0)\n",
            "Requirement already satisfied: text-unidecode in /usr/local/lib/python3.12/dist-packages (from kaggle) (1.3)\n",
            "Requirement already satisfied: tqdm in /usr/local/lib/python3.12/dist-packages (from kaggle) (4.67.1)\n",
            "Requirement already satisfied: urllib3>=1.15.1 in /usr/local/lib/python3.12/dist-packages (from kaggle) (2.5.0)\n",
            "Requirement already satisfied: webencodings in /usr/local/lib/python3.12/dist-packages (from kaggle) (0.5.1)\n"
          ]
        }
      ]
    },
    {
      "cell_type": "markdown",
      "metadata": {
        "id": "7a89c955"
      },
      "source": [
        "## Set up kaggle credentials\n",
        "\n",
        "### Subtask:\n",
        "Guide the user on how to obtain their Kaggle API key and store it securely in the notebook environment.\n"
      ],
      "id": "7a89c955"
    },
    {
      "cell_type": "markdown",
      "metadata": {
        "id": "6a8a9dbe"
      },
      "source": [
        "**Reasoning**:\n",
        "Provide instructions to the user on how to obtain their Kaggle API key and securely store it in the notebook environment.\n",
        "\n"
      ],
      "id": "6a8a9dbe"
    },
    {
      "cell_type": "code",
      "metadata": {
        "colab": {
          "base_uri": "https://localhost:8080/"
        },
        "id": "0ef8043e",
        "outputId": "6d441dcd-9bb9-4481-b85a-9f5bf39fc3c9"
      },
      "source": [
        "print(\"Please follow these steps to obtain and store your Kaggle API key:\")\n",
        "print(\"1. Go to your Kaggle account settings.\")\n",
        "print(\"2. Under the 'API' section, click 'Create New API Token'. This will download a 'kaggle.json' file.\")\n",
        "print(\"3. In the notebook environment, navigate to the file explorer (usually a folder icon on the left sidebar).\")\n",
        "print(\"4. Click the upload button (usually an upward arrow icon) and upload the 'kaggle.json' file you just downloaded.\")\n",
        "print(\"5. Run the following code in a code cell to create the necessary directory and move the uploaded 'kaggle.json' file to that directory:\")\n",
        "print(\"\\n!mkdir -p ~/.kaggle\")\n",
        "print(\"!mv kaggle.json ~/.kaggle/\")\n",
        "print(\"!chmod 600 ~/.kaggle/kaggle.json\")"
      ],
      "id": "0ef8043e",
      "execution_count": 10,
      "outputs": [
        {
          "output_type": "stream",
          "name": "stdout",
          "text": [
            "Please follow these steps to obtain and store your Kaggle API key:\n",
            "1. Go to your Kaggle account settings.\n",
            "2. Under the 'API' section, click 'Create New API Token'. This will download a 'kaggle.json' file.\n",
            "3. In the notebook environment, navigate to the file explorer (usually a folder icon on the left sidebar).\n",
            "4. Click the upload button (usually an upward arrow icon) and upload the 'kaggle.json' file you just downloaded.\n",
            "5. Run the following code in a code cell to create the necessary directory and move the uploaded 'kaggle.json' file to that directory:\n",
            "\n",
            "!mkdir -p ~/.kaggle\n",
            "!mv kaggle.json ~/.kaggle/\n",
            "!chmod 600 ~/.kaggle/kaggle.json\n"
          ]
        }
      ]
    },
    {
      "cell_type": "code",
      "source": [
        "!mkdir -p ~/.kaggle"
      ],
      "metadata": {
        "id": "-dzhZuL0nOTF"
      },
      "id": "-dzhZuL0nOTF",
      "execution_count": 11,
      "outputs": []
    },
    {
      "cell_type": "code",
      "source": [
        "!mv kaggle.json ~/.kaggle/"
      ],
      "metadata": {
        "id": "Cdb3Y7b7nTms"
      },
      "id": "Cdb3Y7b7nTms",
      "execution_count": 12,
      "outputs": []
    },
    {
      "cell_type": "code",
      "source": [
        "!chmod 600 ~/.kaggle/kaggle.json"
      ],
      "metadata": {
        "id": "nQi7G6K5nV_T"
      },
      "id": "nQi7G6K5nV_T",
      "execution_count": 13,
      "outputs": []
    },
    {
      "cell_type": "markdown",
      "metadata": {
        "id": "49e5f389"
      },
      "source": [
        "## Download dataset\n",
        "\n",
        "### Subtask:\n",
        "Write the code to download the specified dataset from Kaggle using the installed library and credentials.\n"
      ],
      "id": "49e5f389"
    },
    {
      "cell_type": "markdown",
      "metadata": {
        "id": "6c6984af"
      },
      "source": [
        "**Reasoning**:\n",
        "Download the specified dataset from Kaggle and unzip it.\n",
        "\n"
      ],
      "id": "6c6984af"
    },
    {
      "cell_type": "markdown",
      "source": [],
      "metadata": {
        "id": "WOokzy4Ton9s"
      },
      "id": "WOokzy4Ton9s"
    },
    {
      "cell_type": "code",
      "metadata": {
        "colab": {
          "base_uri": "https://localhost:8080/"
        },
        "id": "7bd022a0",
        "outputId": "10710eda-54ad-4c33-ac17-c310282fdb74"
      },
      "source": [
        "import kaggle\n",
        "kaggle.api.dataset_download_files('rtti237/realwaste-dataset', unzip=True)"
      ],
      "id": "7bd022a0",
      "execution_count": 14,
      "outputs": [
        {
          "output_type": "stream",
          "name": "stdout",
          "text": [
            "Dataset URL: https://www.kaggle.com/datasets/rtti237/realwaste-dataset\n"
          ]
        }
      ]
    },
    {
      "cell_type": "markdown",
      "metadata": {
        "id": "e8c3dc4d"
      },
      "source": [
        "## Verify dataset location\n",
        "\n",
        "### Subtask:\n",
        "Show the user where the downloaded dataset is located in the notebook's file system.\n"
      ],
      "id": "e8c3dc4d"
    },
    {
      "cell_type": "markdown",
      "metadata": {
        "id": "94f97a54"
      },
      "source": [
        "**Reasoning**:\n",
        "List the contents of the current directory to show the downloaded dataset files and folders.\n",
        "\n"
      ],
      "id": "94f97a54"
    },
    {
      "cell_type": "code",
      "metadata": {
        "colab": {
          "base_uri": "https://localhost:8080/"
        },
        "id": "566e5843",
        "outputId": "e84437c9-abba-402f-c388-889452cc433f"
      },
      "source": [
        "%ls"
      ],
      "id": "566e5843",
      "execution_count": 15,
      "outputs": [
        {
          "output_type": "stream",
          "name": "stdout",
          "text": [
            "\u001b[0m\u001b[01;34mRealWaste\u001b[0m/  \u001b[01;34msample_data\u001b[0m/\n"
          ]
        }
      ]
    },
    {
      "cell_type": "markdown",
      "metadata": {
        "id": "b6b017b0"
      },
      "source": [
        "## Update data dir\n",
        "\n",
        "### Subtask:\n",
        "Modify the `DATA_DIR` variable to point to the location of the downloaded dataset.\n"
      ],
      "id": "b6b017b0"
    },
    {
      "cell_type": "markdown",
      "metadata": {
        "id": "c7018b46"
      },
      "source": [
        "**Reasoning**:\n",
        "Update the DATA_DIR variable to the correct path of the downloaded dataset directory, which is 'RealWaste' in the current directory.\n",
        "\n"
      ],
      "id": "c7018b46"
    },
    {
      "cell_type": "code",
      "metadata": {
        "colab": {
          "base_uri": "https://localhost:8080/"
        },
        "id": "78178155",
        "outputId": "96dd6598-919c-4d8b-bc61-50f132d78141"
      },
      "source": [
        "DATA_DIR = './RealWaste'\n",
        "print(f\"Updated DATA_DIR: {DATA_DIR}\")"
      ],
      "id": "78178155",
      "execution_count": 16,
      "outputs": [
        {
          "output_type": "stream",
          "name": "stdout",
          "text": [
            "Updated DATA_DIR: ./RealWaste\n"
          ]
        }
      ]
    },
    {
      "cell_type": "markdown",
      "id": "ffa1819c",
      "metadata": {
        "id": "ffa1819c"
      },
      "source": [
        "## Dataset Configuration\n",
        "- Resize the 524x524 to 224x224\n",
        "- Set the batch size to 32. The number of data samples (images) that will be processed simultaneously during one forward/backward pass of the model\n",
        "- Number of distinct classes for which the classification should be done is set to 9.\n",
        "- Total number of epoch count is set to 20."
      ]
    },
    {
      "cell_type": "code",
      "execution_count": 17,
      "id": "0a65bfee",
      "metadata": {
        "id": "0a65bfee"
      },
      "outputs": [],
      "source": [
        "# Dataset parameters\n",
        "IMAGE_SIZE = 224\n",
        "BATCH_SIZE = 32\n",
        "NUM_CLASSES = 9\n",
        "NUM_EPOCHS = 100\n",
        "\n",
        "# Class names and their counts\n",
        "CLASS_NAMES = [\n",
        "    'Cardboard',         # 461\n",
        "    'Food_Organics',     # 411\n",
        "    'Glass',             # 420\n",
        "    'Metal',             # 790\n",
        "    'Miscellaneous',     # 495\n",
        "    'Paper',             # 500\n",
        "    'Plastic',           # 921\n",
        "    'Textile',           # 318\n",
        "    'Vegetation'         # 436\n",
        "]\n",
        "\n",
        "# DATA_DIR = '/home/ravindu/Documents/Projects/cnn-realwaste/realwaste/realwaste-main/RealWaste'"
      ]
    },
    {
      "cell_type": "markdown",
      "id": "e8a06ace",
      "metadata": {
        "id": "e8a06ace"
      },
      "source": [
        "## Dataset class"
      ]
    },
    {
      "cell_type": "code",
      "execution_count": 18,
      "id": "e64058e3",
      "metadata": {
        "id": "e64058e3"
      },
      "outputs": [],
      "source": [
        "class WasteDataset(Dataset):\n",
        "    \"\"\"Custom Dataset for loading waste material images\"\"\"\n",
        "\n",
        "    def __init__(self, root_dir, transform=None):\n",
        "        \"\"\"\n",
        "        Args:\n",
        "            root_dir (string): Directory with all the class folders\n",
        "            transform (callable, optional): Optional transform to be applied on images\n",
        "        \"\"\"\n",
        "        self.root_dir = Path(root_dir)\n",
        "        self.transform = transform\n",
        "        self.images = []\n",
        "        self.labels = []\n",
        "\n",
        "        # Load all images and labels\n",
        "        for class_idx, class_name in enumerate(CLASS_NAMES):\n",
        "            class_dir = self.root_dir / class_name\n",
        "            if class_dir.exists():\n",
        "                for img_path in class_dir.glob('*.*'):\n",
        "                    if img_path.suffix.lower() in ['.jpg', '.jpeg', '.png']:\n",
        "                        self.images.append(str(img_path))\n",
        "                        self.labels.append(class_idx)\n",
        "\n",
        "        print(f\"Loaded {len(self.images)} images from {len(CLASS_NAMES)} classes\")\n",
        "\n",
        "    def __len__(self):\n",
        "        return len(self.images)\n",
        "\n",
        "    def __getitem__(self, idx):\n",
        "        img_path = self.images[idx]\n",
        "        image = Image.open(img_path).convert('RGB')\n",
        "        label = self.labels[idx]\n",
        "\n",
        "        if self.transform:\n",
        "            image = self.transform(image)\n",
        "\n",
        "        return image, label"
      ]
    },
    {
      "cell_type": "markdown",
      "id": "bb4c5c34",
      "metadata": {
        "id": "bb4c5c34"
      },
      "source": [
        "## Calculating normalization values\n",
        "- Calculate μ and σ for each channel (R, G, B) of the specific training set using 1000 images from that dataset."
      ]
    },
    {
      "cell_type": "code",
      "execution_count": 19,
      "id": "925caa4a",
      "metadata": {
        "colab": {
          "base_uri": "https://localhost:8080/"
        },
        "id": "925caa4a",
        "outputId": "b5949a69-7636-40a8-d352-2cc7f364695c"
      },
      "outputs": [
        {
          "output_type": "stream",
          "name": "stdout",
          "text": [
            "Loaded 3528 images from 9 classes\n"
          ]
        },
        {
          "output_type": "stream",
          "name": "stderr",
          "text": [
            "/usr/local/lib/python3.12/dist-packages/torch/utils/data/dataloader.py:627: UserWarning: This DataLoader will create 4 worker processes in total. Our suggested max number of worker in current system is 2, which is smaller than what this DataLoader is going to create. Please be aware that excessive worker creation might get DataLoader running slow or even freeze, lower the worker number to avoid potential slowness/freeze if necessary.\n",
            "  warnings.warn(\n"
          ]
        },
        {
          "output_type": "stream",
          "name": "stdout",
          "text": [
            "Dataset Mean (R, G, B): [0.5934, 0.6175, 0.6335]\n",
            "Dataset Std (R, G, B): [0.1565, 0.1560, 0.1812]\n"
          ]
        }
      ],
      "source": [
        "def calculate_mean_std(dataset_path, image_size=224, sample_size=None):\n",
        "    transform = transforms.Compose([\n",
        "        transforms.Resize((image_size, image_size)),\n",
        "        transforms.ToTensor()\n",
        "    ])\n",
        "\n",
        "    temp_dataset = WasteDataset(root_dir=dataset_path, transform=transform)\n",
        "\n",
        "    if sample_size and sample_size < len(temp_dataset):\n",
        "        indices = np.random.choice(len(temp_dataset), sample_size, replace=False)\n",
        "        temp_dataset = torch.utils.data.Subset(temp_dataset, indices)\n",
        "\n",
        "    loader = DataLoader(temp_dataset, batch_size=32, shuffle=False, num_workers=4)\n",
        "\n",
        "    channels_sum = torch.zeros(3)\n",
        "    channels_squared_sum = torch.zeros(3)\n",
        "    num_pixels = 0\n",
        "\n",
        "    for images, _ in loader:\n",
        "        channels_sum += torch.mean(images, dim=[0, 2, 3]) * images.size(0)\n",
        "        channels_squared_sum += torch.mean(images ** 2, dim=[0, 2, 3]) * images.size(0)\n",
        "        num_pixels += images.size(0)\n",
        "\n",
        "    mean = channels_sum / num_pixels\n",
        "    std = torch.sqrt(channels_squared_sum / num_pixels - mean ** 2)\n",
        "\n",
        "    print(f\"Dataset Mean (R, G, B): [{mean[0]:.4f}, {mean[1]:.4f}, {mean[2]:.4f}]\")\n",
        "    print(f\"Dataset Std (R, G, B): [{std[0]:.4f}, {std[1]:.4f}, {std[2]:.4f}]\")\n",
        "\n",
        "    return mean.tolist(), std.tolist()\n",
        "\n",
        "dataset_mean, dataset_std = calculate_mean_std(DATA_DIR, IMAGE_SIZE, sample_size=1000)"
      ]
    },
    {
      "cell_type": "markdown",
      "id": "8e77d83e",
      "metadata": {
        "id": "8e77d83e"
      },
      "source": [
        "## Data augmentation and pre-processing\n",
        "### Training dataset\n",
        "- Resizing\n",
        "- Random horizontal flip\n",
        "- Random rotation\n",
        "- Color jitter (Randomly alter the brightness, contrast, and saturation)\n",
        "- Convert the image from a PIL Image to a PyTorch Tensor and automatically scale pixel values from [0,255] to the floating-point range of [0.0,1.0]\n",
        "- Standardize the Tensor data\n",
        "\n",
        "### Validation data set\n",
        "- Resizing\n",
        "- Tensor conversion\n",
        "- Normalization\n"
      ]
    },
    {
      "cell_type": "code",
      "execution_count": 20,
      "id": "0e5a0e16",
      "metadata": {
        "id": "0e5a0e16"
      },
      "outputs": [],
      "source": [
        "# Training transforms with data augmentation\n",
        "train_transform = transforms.Compose([\n",
        "    transforms.Resize((IMAGE_SIZE, IMAGE_SIZE)),\n",
        "    transforms.RandomHorizontalFlip(p=0.5),\n",
        "    transforms.RandomRotation(15),\n",
        "    transforms.ColorJitter(brightness=0.2, contrast=0.2, saturation=0.2),\n",
        "    transforms.ToTensor(),\n",
        "    transforms.Normalize(mean=dataset_mean, std=dataset_std)\n",
        "])\n",
        "\n",
        "# Validation and test transforms (no augmentation)\n",
        "val_test_transform = transforms.Compose([\n",
        "    transforms.Resize((IMAGE_SIZE, IMAGE_SIZE)),\n",
        "    transforms.ToTensor(),\n",
        "    transforms.Normalize(mean=dataset_mean, std=dataset_std)\n",
        "])"
      ]
    },
    {
      "cell_type": "markdown",
      "id": "569bb01c",
      "metadata": {
        "id": "569bb01c"
      },
      "source": [
        "## Load and split data set\n",
        "- Load the full data set and split it into 70% training, 15% validation and 15% testing.\n",
        "- Create the necessary data loaders"
      ]
    },
    {
      "cell_type": "code",
      "execution_count": 21,
      "id": "c1783caa",
      "metadata": {
        "colab": {
          "base_uri": "https://localhost:8080/"
        },
        "id": "c1783caa",
        "outputId": "00d421e9-d73d-4424-f905-ad8c51979e0a"
      },
      "outputs": [
        {
          "output_type": "stream",
          "name": "stdout",
          "text": [
            "Loaded 3528 images from 9 classes\n",
            "\n",
            "Dataset Split:\n",
            "Training: 2469 images (70.0%)\n",
            "Validation: 529 images (15.0%)\n",
            "Testing: 530 images (15.0%)\n"
          ]
        }
      ],
      "source": [
        "full_dataset = WasteDataset(root_dir=DATA_DIR, transform=train_transform)\n",
        "\n",
        "total_size = len(full_dataset)\n",
        "train_size = int(0.70 * total_size)\n",
        "val_size = int(0.15 * total_size)\n",
        "test_size = total_size - train_size - val_size\n",
        "\n",
        "print(f\"\\nDataset Split:\")\n",
        "print(f\"Training: {train_size} images ({train_size/total_size*100:.1f}%)\")\n",
        "print(f\"Validation: {val_size} images ({val_size/total_size*100:.1f}%)\")\n",
        "print(f\"Testing: {test_size} images ({test_size/total_size*100:.1f}%)\")\n",
        "\n",
        "# Split dataset\n",
        "train_dataset, val_dataset, test_dataset = random_split(\n",
        "    full_dataset, [train_size, val_size, test_size],\n",
        "    generator=torch.Generator().manual_seed(42)\n",
        ")\n",
        "\n",
        "# Apply appropriate transforms\n",
        "val_dataset.dataset.transform = val_test_transform\n",
        "test_dataset.dataset.transform = val_test_transform\n",
        "\n",
        "# Create data loaders\n",
        "train_loader = DataLoader(train_dataset, batch_size=BATCH_SIZE,\n",
        "                         shuffle=True, num_workers=4, pin_memory=True)\n",
        "val_loader = DataLoader(val_dataset, batch_size=BATCH_SIZE,\n",
        "                       shuffle=False, num_workers=4, pin_memory=True)\n",
        "test_loader = DataLoader(test_dataset, batch_size=BATCH_SIZE,\n",
        "                        shuffle=False, num_workers=4, pin_memory=True)"
      ]
    },
    {
      "cell_type": "markdown",
      "id": "d0c827d9",
      "metadata": {
        "id": "d0c827d9"
      },
      "source": [
        "## CNN model architecture\n",
        "### Feature Extraction\n",
        "\n",
        "- Convo1ution layer 1: 32 filters, 5x5 kernel, ReLU activation\n",
        "- MaxPool: 2x2\n",
        "- Convo1ution layer 2: 64 filters, 3x3 kernel, ReLU activation\n",
        "- MaxPool: 2x2\n",
        "- Convo1ution layer 3: 128 filters, 3x3 kernel, ReLU activation (added for better feature extraction)\n",
        "- MaxPool: 2x2\n",
        "\n",
        "### Classification\n",
        "- Flatten\n",
        "- Fully Connected layer 1: 512 units, ReLU activation\n",
        "    - with Dropout: 0.5\n",
        "- Fully Connected layer 2: 256 units, ReLU activation\n",
        "    - With Dropout: 0.3\n",
        "- Output: 9 units, Softmax"
      ]
    },
    {
      "cell_type": "code",
      "execution_count": 22,
      "id": "2ccde982",
      "metadata": {
        "colab": {
          "base_uri": "https://localhost:8080/"
        },
        "id": "2ccde982",
        "outputId": "4ccd46e5-91e6-45ac-b473-736014de2398"
      },
      "outputs": [
        {
          "output_type": "stream",
          "name": "stdout",
          "text": [
            "\n",
            "======================================================================\n",
            "MODEL ARCHITECTURE\n",
            "======================================================================\n",
            "WasteCNN(\n",
            "  (conv_layers): Sequential(\n",
            "    (0): Conv2d(3, 32, kernel_size=(5, 5), stride=(1, 1), padding=(2, 2))\n",
            "    (1): BatchNorm2d(32, eps=1e-05, momentum=0.1, affine=True, track_running_stats=True)\n",
            "    (2): ReLU(inplace=True)\n",
            "    (3): MaxPool2d(kernel_size=2, stride=2, padding=0, dilation=1, ceil_mode=False)\n",
            "    (4): Conv2d(32, 64, kernel_size=(3, 3), stride=(1, 1), padding=(1, 1))\n",
            "    (5): BatchNorm2d(64, eps=1e-05, momentum=0.1, affine=True, track_running_stats=True)\n",
            "    (6): ReLU(inplace=True)\n",
            "    (7): MaxPool2d(kernel_size=2, stride=2, padding=0, dilation=1, ceil_mode=False)\n",
            "    (8): Conv2d(64, 128, kernel_size=(3, 3), stride=(1, 1), padding=(1, 1))\n",
            "    (9): BatchNorm2d(128, eps=1e-05, momentum=0.1, affine=True, track_running_stats=True)\n",
            "    (10): ReLU(inplace=True)\n",
            "    (11): MaxPool2d(kernel_size=2, stride=2, padding=0, dilation=1, ceil_mode=False)\n",
            "  )\n",
            "  (fc_layers): Sequential(\n",
            "    (0): Flatten(start_dim=1, end_dim=-1)\n",
            "    (1): Linear(in_features=100352, out_features=512, bias=True)\n",
            "    (2): ReLU(inplace=True)\n",
            "    (3): Dropout(p=0.5, inplace=False)\n",
            "    (4): Linear(in_features=512, out_features=256, bias=True)\n",
            "    (5): ReLU(inplace=True)\n",
            "    (6): Dropout(p=0.3, inplace=False)\n",
            "    (7): Linear(in_features=256, out_features=9, bias=True)\n",
            "  )\n",
            ")\n",
            "\n",
            "Total parameters: 51609609\n",
            "Trainable parameters: 51609609\n"
          ]
        }
      ],
      "source": [
        "class WasteCNN(nn.Module):\n",
        "\n",
        "    def __init__(self, num_classes=9):\n",
        "        super(WasteCNN, self).__init__()\n",
        "\n",
        "        # Convolutional layers\n",
        "        self.conv_layers = nn.Sequential(\n",
        "            # First convolutional block\n",
        "            nn.Conv2d(in_channels=3, out_channels=32, kernel_size=5, padding=2),\n",
        "            nn.BatchNorm2d(32),\n",
        "            nn.ReLU(inplace=True),\n",
        "            nn.MaxPool2d(kernel_size=2, stride=2),\n",
        "\n",
        "            # Second convolutional block\n",
        "            nn.Conv2d(in_channels=32, out_channels=64, kernel_size=3, padding=1),\n",
        "            nn.BatchNorm2d(64),\n",
        "            nn.ReLU(inplace=True),\n",
        "            nn.MaxPool2d(kernel_size=2, stride=2),\n",
        "\n",
        "            # Third convolutional block\n",
        "            nn.Conv2d(in_channels=64, out_channels=128, kernel_size=3, padding=1),\n",
        "            nn.BatchNorm2d(128),\n",
        "            nn.ReLU(inplace=True),\n",
        "            nn.MaxPool2d(kernel_size=2, stride=2)\n",
        "        )\n",
        "\n",
        "        # Input: 224x224 -> after 3 maxpools (2x2): 224/8 = 28x28\n",
        "        self.flatten_size = 128 * 28 * 28\n",
        "\n",
        "        # Fully connected layers\n",
        "        self.fc_layers = nn.Sequential(\n",
        "            nn.Flatten(),\n",
        "            nn.Linear(self.flatten_size, 512),\n",
        "            nn.ReLU(inplace=True),\n",
        "            nn.Dropout(0.5),\n",
        "\n",
        "            nn.Linear(512, 256),\n",
        "            nn.ReLU(inplace=True),\n",
        "            nn.Dropout(0.3),\n",
        "\n",
        "            nn.Linear(256, num_classes)\n",
        "        )\n",
        "\n",
        "        # Initialize weights\n",
        "        self._initialize_weights()\n",
        "\n",
        "    def _initialize_weights(self):\n",
        "        \"\"\"Initialize model weights using He initialization\"\"\"\n",
        "\n",
        "        for m in self.modules():\n",
        "            if isinstance(m, nn.Conv2d):\n",
        "                nn.init.kaiming_normal_(m.weight, mode='fan_out', nonlinearity='relu')\n",
        "                if m.bias is not None:\n",
        "                    nn.init.constant_(m.bias, 0)\n",
        "            elif isinstance(m, nn.BatchNorm2d):\n",
        "                nn.init.constant_(m.weight, 1)\n",
        "                nn.init.constant_(m.bias, 0)\n",
        "            elif isinstance(m, nn.Linear):\n",
        "                nn.init.normal_(m.weight, 0, 0.01)\n",
        "                nn.init.constant_(m.bias, 0)\n",
        "\n",
        "    def forward(self, x):\n",
        "        x = self.conv_layers(x)\n",
        "        x = self.fc_layers(x)\n",
        "        return x\n",
        "\n",
        "# Create model and move to GPU\n",
        "model = WasteCNN(num_classes=NUM_CLASSES).to(device)\n",
        "\n",
        "print(\"\\n\" + \"=\"*70)\n",
        "print(\"MODEL ARCHITECTURE\")\n",
        "print(\"=\"*70)\n",
        "print(model)\n",
        "print(\"\\nTotal parameters:\", sum(p.numel() for p in model.parameters()))\n",
        "print(\"Trainable parameters:\", sum(p.numel() for p in model.parameters() if p.requires_grad))"
      ]
    },
    {
      "cell_type": "markdown",
      "id": "d2954952",
      "metadata": {
        "id": "d2954952"
      },
      "source": [
        "## Loss function and Optimizer\n",
        "- Loss function -> Cross entropy loss\n",
        "- Optimizer -> Adaptive Moment Estimation (ADAM)\n",
        "- Learning rate scheduler -> Reduce LR On Plateau"
      ]
    },
    {
      "cell_type": "code",
      "execution_count": 23,
      "id": "71d57e70",
      "metadata": {
        "id": "71d57e70"
      },
      "outputs": [],
      "source": [
        "# Loss function\n",
        "criterion = nn.CrossEntropyLoss()\n",
        "\n",
        "# Optimizer\n",
        "optimizer = optim.Adam(model.parameters(), lr=0.001, weight_decay=1e-4)\n",
        "\n",
        "# Learning rate scheduler\n",
        "scheduler = optim.lr_scheduler.ReduceLROnPlateau(\n",
        "    optimizer, mode='min', factor=0.5, patience=3\n",
        ")"
      ]
    },
    {
      "cell_type": "markdown",
      "id": "0aafcf79",
      "metadata": {
        "id": "0aafcf79"
      },
      "source": [
        "## Training and Validation"
      ]
    },
    {
      "cell_type": "code",
      "execution_count": 24,
      "id": "4dc8b35c",
      "metadata": {
        "id": "4dc8b35c"
      },
      "outputs": [],
      "source": [
        "def train_epoch(model, dataloader, criterion, optimizer, device):\n",
        "    \"\"\"Train the model for one epoch\"\"\"\n",
        "    model.train()\n",
        "    running_loss = 0.0\n",
        "    correct = 0\n",
        "    total = 0\n",
        "\n",
        "    for images, labels in dataloader:\n",
        "        images, labels = images.to(device), labels.to(device)\n",
        "\n",
        "        # Zero the gradients\n",
        "        optimizer.zero_grad()\n",
        "\n",
        "        # Forward pass\n",
        "        outputs = model(images)\n",
        "        loss = criterion(outputs, labels)\n",
        "\n",
        "        # Backward pass and optimize\n",
        "        loss.backward()\n",
        "        optimizer.step()\n",
        "\n",
        "        # Statistics\n",
        "        running_loss += loss.item() * images.size(0)\n",
        "        _, predicted = torch.max(outputs.data, 1)\n",
        "        total += labels.size(0)\n",
        "        correct += (predicted == labels).sum().item()\n",
        "\n",
        "    epoch_loss = running_loss / len(dataloader.dataset)\n",
        "    epoch_acc = 100 * correct / total\n",
        "\n",
        "    return epoch_loss, epoch_acc\n",
        "\n",
        "def validate_epoch(model, dataloader, criterion, device):\n",
        "    \"\"\"Validate the model\"\"\"\n",
        "    model.eval()\n",
        "    running_loss = 0.0\n",
        "    correct = 0\n",
        "    total = 0\n",
        "\n",
        "    with torch.no_grad():\n",
        "        for images, labels in dataloader:\n",
        "            images, labels = images.to(device), labels.to(device)\n",
        "\n",
        "            # Forward pass\n",
        "            outputs = model(images)\n",
        "            loss = criterion(outputs, labels)\n",
        "\n",
        "            # Statistics\n",
        "            running_loss += loss.item() * images.size(0)\n",
        "            _, predicted = torch.max(outputs.data, 1)\n",
        "            total += labels.size(0)\n",
        "            correct += (predicted == labels).sum().item()\n",
        "\n",
        "    epoch_loss = running_loss / len(dataloader.dataset)\n",
        "    epoch_acc = 100 * correct / total\n",
        "\n",
        "    return epoch_loss, epoch_acc"
      ]
    },
    {
      "cell_type": "markdown",
      "id": "05c03858",
      "metadata": {
        "id": "05c03858"
      },
      "source": [
        "## Training Loop"
      ]
    },
    {
      "cell_type": "code",
      "execution_count": 25,
      "id": "ac977b9d",
      "metadata": {
        "colab": {
          "base_uri": "https://localhost:8080/"
        },
        "id": "ac977b9d",
        "outputId": "17e585ec-cc10-4041-c7bb-e03d62f06aff"
      },
      "outputs": [
        {
          "output_type": "stream",
          "name": "stdout",
          "text": [
            "Epoch [1/100] (23.05s) - Train Loss: 1.4087, Train Acc: 46.78% | Val Loss: 0.9442, Val Acc: 64.27%\n",
            "Epoch [2/100] (17.18s) - Train Loss: 1.0636, Train Acc: 58.36% | Val Loss: 0.9241, Val Acc: 63.71%\n",
            "Epoch [3/100] (18.40s) - Train Loss: 0.9980, Train Acc: 61.20% | Val Loss: 0.7585, Val Acc: 72.21%\n",
            "Epoch [4/100] (16.97s) - Train Loss: 0.9383, Train Acc: 65.49% | Val Loss: 0.7791, Val Acc: 74.48%\n",
            "Epoch [5/100] (17.22s) - Train Loss: 0.8898, Train Acc: 66.75% | Val Loss: 0.7745, Val Acc: 73.53%\n",
            "Epoch [6/100] (19.34s) - Train Loss: 0.8331, Train Acc: 68.61% | Val Loss: 0.6929, Val Acc: 74.67%\n",
            "Epoch [7/100] (17.11s) - Train Loss: 0.7975, Train Acc: 70.43% | Val Loss: 0.7357, Val Acc: 72.78%\n",
            "Epoch [8/100] (18.31s) - Train Loss: 0.7708, Train Acc: 72.46% | Val Loss: 0.6291, Val Acc: 75.99%\n",
            "Epoch [9/100] (17.08s) - Train Loss: 0.7543, Train Acc: 72.82% | Val Loss: 0.7605, Val Acc: 69.94%\n",
            "Epoch [10/100] (17.20s) - Train Loss: 0.7515, Train Acc: 72.42% | Val Loss: 0.6442, Val Acc: 76.94%\n",
            "Epoch [11/100] (18.02s) - Train Loss: 0.6704, Train Acc: 75.50% | Val Loss: 0.6321, Val Acc: 76.94%\n",
            "Epoch [12/100] (17.41s) - Train Loss: 0.6519, Train Acc: 77.04% | Val Loss: 0.6894, Val Acc: 74.29%\n",
            "Epoch [13/100] (17.16s) - Train Loss: 0.5705, Train Acc: 80.15% | Val Loss: 0.5609, Val Acc: 78.45%\n",
            "Epoch [14/100] (17.72s) - Train Loss: 0.4503, Train Acc: 84.08% | Val Loss: 0.5785, Val Acc: 78.26%\n",
            "Epoch [15/100] (17.12s) - Train Loss: 0.4187, Train Acc: 84.61% | Val Loss: 0.5732, Val Acc: 79.02%\n",
            "Epoch [16/100] (17.67s) - Train Loss: 0.4106, Train Acc: 84.57% | Val Loss: 0.5419, Val Acc: 79.58%\n",
            "Epoch [17/100] (17.53s) - Train Loss: 0.3715, Train Acc: 86.43% | Val Loss: 0.5766, Val Acc: 80.15%\n",
            "Epoch [18/100] (17.13s) - Train Loss: 0.3660, Train Acc: 86.23% | Val Loss: 0.5948, Val Acc: 78.64%\n",
            "Epoch [19/100] (18.22s) - Train Loss: 0.3530, Train Acc: 87.32% | Val Loss: 0.5921, Val Acc: 78.83%\n",
            "Epoch [20/100] (17.18s) - Train Loss: 0.3500, Train Acc: 87.00% | Val Loss: 0.6269, Val Acc: 77.32%\n",
            "Epoch [21/100] (16.99s) - Train Loss: 0.2964, Train Acc: 88.98% | Val Loss: 0.5560, Val Acc: 79.77%\n",
            "Epoch [22/100] (17.93s) - Train Loss: 0.2610, Train Acc: 90.12% | Val Loss: 0.5523, Val Acc: 79.96%\n",
            "Epoch [23/100] (16.97s) - Train Loss: 0.2238, Train Acc: 92.30% | Val Loss: 0.5459, Val Acc: 80.34%\n",
            "Epoch [24/100] (17.28s) - Train Loss: 0.2236, Train Acc: 91.45% | Val Loss: 0.5805, Val Acc: 80.91%\n",
            "Epoch [25/100] (17.83s) - Train Loss: 0.2069, Train Acc: 91.98% | Val Loss: 0.5625, Val Acc: 80.91%\n",
            "Epoch [26/100] (17.34s) - Train Loss: 0.1893, Train Acc: 92.95% | Val Loss: 0.5810, Val Acc: 80.72%\n",
            "Epoch [27/100] (18.27s) - Train Loss: 0.1822, Train Acc: 93.52% | Val Loss: 0.5775, Val Acc: 81.29%\n",
            "Epoch [28/100] (16.98s) - Train Loss: 0.1791, Train Acc: 93.32% | Val Loss: 0.5986, Val Acc: 80.53%\n",
            "Epoch [29/100] (17.27s) - Train Loss: 0.1463, Train Acc: 94.78% | Val Loss: 0.5991, Val Acc: 80.72%\n",
            "Epoch [30/100] (18.11s) - Train Loss: 0.1504, Train Acc: 94.57% | Val Loss: 0.5897, Val Acc: 81.47%\n",
            "Epoch [31/100] (17.14s) - Train Loss: 0.1582, Train Acc: 93.80% | Val Loss: 0.5897, Val Acc: 80.91%\n",
            "Epoch [32/100] (17.22s) - Train Loss: 0.1378, Train Acc: 94.69% | Val Loss: 0.6428, Val Acc: 81.29%\n",
            "Epoch [33/100] (17.99s) - Train Loss: 0.1414, Train Acc: 94.29% | Val Loss: 0.6069, Val Acc: 81.47%\n",
            "Epoch [34/100] (17.15s) - Train Loss: 0.1438, Train Acc: 94.37% | Val Loss: 0.6083, Val Acc: 81.47%\n",
            "Epoch [35/100] (18.12s) - Train Loss: 0.1395, Train Acc: 94.53% | Val Loss: 0.6089, Val Acc: 81.29%\n",
            "Epoch [36/100] (17.26s) - Train Loss: 0.1310, Train Acc: 95.42% | Val Loss: 0.6140, Val Acc: 82.23%\n",
            "Epoch [37/100] (17.09s) - Train Loss: 0.1249, Train Acc: 95.14% | Val Loss: 0.6099, Val Acc: 80.91%\n",
            "Epoch [38/100] (18.13s) - Train Loss: 0.1233, Train Acc: 95.38% | Val Loss: 0.6245, Val Acc: 80.72%\n",
            "Epoch [39/100] (17.21s) - Train Loss: 0.1126, Train Acc: 95.75% | Val Loss: 0.6238, Val Acc: 81.10%\n",
            "Epoch [40/100] (17.39s) - Train Loss: 0.1310, Train Acc: 95.10% | Val Loss: 0.6356, Val Acc: 81.66%\n",
            "Epoch [41/100] (17.83s) - Train Loss: 0.1256, Train Acc: 95.10% | Val Loss: 0.6335, Val Acc: 82.04%\n",
            "Epoch [42/100] (17.11s) - Train Loss: 0.1218, Train Acc: 95.10% | Val Loss: 0.6217, Val Acc: 81.66%\n",
            "Epoch [43/100] (18.24s) - Train Loss: 0.1183, Train Acc: 95.10% | Val Loss: 0.6381, Val Acc: 81.47%\n",
            "Epoch [44/100] (17.26s) - Train Loss: 0.1223, Train Acc: 95.30% | Val Loss: 0.6441, Val Acc: 81.29%\n",
            "Epoch [45/100] (17.45s) - Train Loss: 0.1120, Train Acc: 96.07% | Val Loss: 0.6444, Val Acc: 82.42%\n",
            "Epoch [46/100] (18.23s) - Train Loss: 0.1269, Train Acc: 95.22% | Val Loss: 0.6445, Val Acc: 81.29%\n",
            "Epoch [47/100] (17.09s) - Train Loss: 0.1069, Train Acc: 96.19% | Val Loss: 0.6309, Val Acc: 81.10%\n",
            "Epoch [48/100] (17.36s) - Train Loss: 0.1139, Train Acc: 95.87% | Val Loss: 0.6445, Val Acc: 81.85%\n",
            "Epoch [49/100] (17.90s) - Train Loss: 0.1281, Train Acc: 95.18% | Val Loss: 0.6371, Val Acc: 81.66%\n",
            "Epoch [50/100] (17.27s) - Train Loss: 0.1101, Train Acc: 95.71% | Val Loss: 0.6519, Val Acc: 81.10%\n",
            "Epoch [51/100] (18.02s) - Train Loss: 0.1177, Train Acc: 95.26% | Val Loss: 0.6374, Val Acc: 81.47%\n",
            "Epoch [52/100] (17.55s) - Train Loss: 0.1159, Train Acc: 95.67% | Val Loss: 0.6370, Val Acc: 81.47%\n",
            "Epoch [53/100] (17.28s) - Train Loss: 0.1209, Train Acc: 95.46% | Val Loss: 0.6707, Val Acc: 80.72%\n",
            "Epoch [54/100] (18.31s) - Train Loss: 0.1226, Train Acc: 94.90% | Val Loss: 0.6254, Val Acc: 81.29%\n",
            "Epoch [55/100] (17.28s) - Train Loss: 0.1171, Train Acc: 95.71% | Val Loss: 0.6491, Val Acc: 82.04%\n",
            "Epoch [56/100] (17.13s) - Train Loss: 0.1192, Train Acc: 95.34% | Val Loss: 0.6463, Val Acc: 81.66%\n",
            "Epoch [57/100] (18.06s) - Train Loss: 0.1105, Train Acc: 95.75% | Val Loss: 0.6447, Val Acc: 81.29%\n",
            "Epoch [58/100] (19.40s) - Train Loss: 0.1142, Train Acc: 96.07% | Val Loss: 0.6296, Val Acc: 81.66%\n",
            "Epoch [59/100] (20.66s) - Train Loss: 0.1141, Train Acc: 95.87% | Val Loss: 0.6951, Val Acc: 81.10%\n",
            "Epoch [60/100] (17.39s) - Train Loss: 0.1273, Train Acc: 94.53% | Val Loss: 0.6617, Val Acc: 81.29%\n",
            "Epoch [61/100] (18.10s) - Train Loss: 0.1189, Train Acc: 95.87% | Val Loss: 0.6389, Val Acc: 81.47%\n",
            "Epoch [62/100] (17.37s) - Train Loss: 0.1281, Train Acc: 95.10% | Val Loss: 0.6448, Val Acc: 81.10%\n",
            "Epoch [63/100] (17.11s) - Train Loss: 0.1219, Train Acc: 95.34% | Val Loss: 0.6375, Val Acc: 81.47%\n",
            "Epoch [64/100] (18.98s) - Train Loss: 0.1217, Train Acc: 95.18% | Val Loss: 0.6433, Val Acc: 81.10%\n",
            "Epoch [65/100] (17.41s) - Train Loss: 0.1285, Train Acc: 94.90% | Val Loss: 0.6373, Val Acc: 81.66%\n",
            "Epoch [66/100] (18.01s) - Train Loss: 0.1206, Train Acc: 95.59% | Val Loss: 0.6384, Val Acc: 81.85%\n",
            "Epoch [67/100] (17.57s) - Train Loss: 0.1290, Train Acc: 95.18% | Val Loss: 0.6792, Val Acc: 81.10%\n",
            "Epoch [68/100] (17.02s) - Train Loss: 0.1124, Train Acc: 95.59% | Val Loss: 0.6337, Val Acc: 81.29%\n",
            "Epoch [69/100] (18.34s) - Train Loss: 0.1309, Train Acc: 94.94% | Val Loss: 0.6459, Val Acc: 81.47%\n",
            "Epoch [70/100] (17.37s) - Train Loss: 0.1128, Train Acc: 96.31% | Val Loss: 0.6404, Val Acc: 80.91%\n",
            "Epoch [71/100] (17.37s) - Train Loss: 0.1133, Train Acc: 95.71% | Val Loss: 0.6410, Val Acc: 81.66%\n",
            "Epoch [72/100] (18.23s) - Train Loss: 0.1270, Train Acc: 95.18% | Val Loss: 0.6452, Val Acc: 81.29%\n",
            "Epoch [73/100] (17.20s) - Train Loss: 0.1242, Train Acc: 95.06% | Val Loss: 0.6630, Val Acc: 80.91%\n",
            "Epoch [74/100] (18.67s) - Train Loss: 0.1201, Train Acc: 95.22% | Val Loss: 0.6640, Val Acc: 81.85%\n",
            "Epoch [75/100] (17.11s) - Train Loss: 0.1099, Train Acc: 95.99% | Val Loss: 0.6583, Val Acc: 80.72%\n",
            "Epoch [76/100] (17.50s) - Train Loss: 0.1096, Train Acc: 96.03% | Val Loss: 0.6471, Val Acc: 82.04%\n",
            "Epoch [77/100] (18.56s) - Train Loss: 0.1244, Train Acc: 95.22% | Val Loss: 0.6642, Val Acc: 81.10%\n",
            "Epoch [78/100] (17.27s) - Train Loss: 0.1323, Train Acc: 94.82% | Val Loss: 0.6402, Val Acc: 81.47%\n",
            "Epoch [79/100] (18.29s) - Train Loss: 0.1232, Train Acc: 95.54% | Val Loss: 0.6453, Val Acc: 81.10%\n",
            "Epoch [80/100] (17.51s) - Train Loss: 0.1086, Train Acc: 95.83% | Val Loss: 0.6764, Val Acc: 80.91%\n",
            "Epoch [81/100] (17.56s) - Train Loss: 0.1214, Train Acc: 95.63% | Val Loss: 0.6554, Val Acc: 81.66%\n",
            "Epoch [82/100] (18.37s) - Train Loss: 0.1217, Train Acc: 95.50% | Val Loss: 0.6358, Val Acc: 81.47%\n",
            "Epoch [83/100] (17.26s) - Train Loss: 0.1319, Train Acc: 94.98% | Val Loss: 0.6588, Val Acc: 81.85%\n",
            "Epoch [84/100] (17.39s) - Train Loss: 0.1168, Train Acc: 95.75% | Val Loss: 0.6583, Val Acc: 81.29%\n",
            "Epoch [85/100] (17.93s) - Train Loss: 0.1207, Train Acc: 95.30% | Val Loss: 0.6664, Val Acc: 81.10%\n",
            "Epoch [86/100] (17.30s) - Train Loss: 0.1305, Train Acc: 95.22% | Val Loss: 0.6473, Val Acc: 81.29%\n",
            "Epoch [87/100] (18.27s) - Train Loss: 0.1185, Train Acc: 95.54% | Val Loss: 0.6448, Val Acc: 80.91%\n",
            "Epoch [88/100] (17.38s) - Train Loss: 0.1073, Train Acc: 96.07% | Val Loss: 0.6316, Val Acc: 81.10%\n",
            "Epoch [89/100] (17.46s) - Train Loss: 0.1292, Train Acc: 95.26% | Val Loss: 0.6460, Val Acc: 81.66%\n",
            "Epoch [90/100] (18.29s) - Train Loss: 0.1279, Train Acc: 95.26% | Val Loss: 0.6529, Val Acc: 81.29%\n",
            "Epoch [91/100] (17.59s) - Train Loss: 0.1144, Train Acc: 95.59% | Val Loss: 0.6358, Val Acc: 80.91%\n",
            "Epoch [92/100] (17.60s) - Train Loss: 0.1164, Train Acc: 95.34% | Val Loss: 0.6440, Val Acc: 80.91%\n",
            "Epoch [93/100] (17.86s) - Train Loss: 0.1181, Train Acc: 95.54% | Val Loss: 0.6473, Val Acc: 81.29%\n",
            "Epoch [94/100] (17.31s) - Train Loss: 0.1186, Train Acc: 95.71% | Val Loss: 0.6474, Val Acc: 81.10%\n",
            "Epoch [95/100] (18.30s) - Train Loss: 0.1154, Train Acc: 96.15% | Val Loss: 0.6354, Val Acc: 82.61%\n",
            "Epoch [96/100] (17.47s) - Train Loss: 0.1125, Train Acc: 95.79% | Val Loss: 0.6539, Val Acc: 81.10%\n",
            "Epoch [97/100] (17.20s) - Train Loss: 0.1197, Train Acc: 95.54% | Val Loss: 0.6412, Val Acc: 81.66%\n",
            "Epoch [98/100] (18.22s) - Train Loss: 0.1226, Train Acc: 95.63% | Val Loss: 0.6607, Val Acc: 80.91%\n",
            "Epoch [99/100] (17.04s) - Train Loss: 0.1162, Train Acc: 95.95% | Val Loss: 0.6581, Val Acc: 81.47%\n",
            "Epoch [100/100] (17.41s) - Train Loss: 0.1181, Train Acc: 95.46% | Val Loss: 0.6648, Val Acc: 81.29%\n",
            "\n",
            "Training completed in 29.53 minutes\n"
          ]
        },
        {
          "output_type": "execute_result",
          "data": {
            "text/plain": [
              "<All keys matched successfully>"
            ]
          },
          "metadata": {},
          "execution_count": 25
        }
      ],
      "source": [
        "# Lists to store history\n",
        "train_losses = []\n",
        "val_losses = []\n",
        "train_accs = []\n",
        "val_accs = []\n",
        "\n",
        "best_val_loss = float('inf')\n",
        "best_model_state = None\n",
        "\n",
        "start_time = time.time()\n",
        "\n",
        "for epoch in range(NUM_EPOCHS):\n",
        "    epoch_start_time = time.time()\n",
        "\n",
        "    # Train\n",
        "    train_loss, train_acc = train_epoch(model, train_loader, criterion, optimizer, device)\n",
        "\n",
        "    # Validate\n",
        "    val_loss, val_acc = validate_epoch(model, val_loader, criterion, device)\n",
        "\n",
        "    # Store history\n",
        "    train_losses.append(train_loss)\n",
        "    val_losses.append(val_loss)\n",
        "    train_accs.append(train_acc)\n",
        "    val_accs.append(val_acc)\n",
        "\n",
        "    # Learning rate scheduling\n",
        "    scheduler.step(val_loss)\n",
        "\n",
        "    # Save best model\n",
        "    if val_loss < best_val_loss:\n",
        "        best_val_loss = val_loss\n",
        "        best_model_state = model.state_dict().copy()\n",
        "\n",
        "    epoch_time = time.time() - epoch_start_time\n",
        "\n",
        "    # Print progress\n",
        "    print(f\"Epoch [{epoch+1}/{NUM_EPOCHS}] ({epoch_time:.2f}s) - \"\n",
        "          f\"Train Loss: {train_loss:.4f}, Train Acc: {train_acc:.2f}% | \"\n",
        "          f\"Val Loss: {val_loss:.4f}, Val Acc: {val_acc:.2f}%\")\n",
        "\n",
        "total_time = time.time() - start_time\n",
        "print(f\"\\nTraining completed in {total_time/60:.2f} minutes\")\n",
        "\n",
        "model.load_state_dict(best_model_state)"
      ]
    },
    {
      "cell_type": "markdown",
      "id": "eb4172ec",
      "metadata": {
        "id": "eb4172ec"
      },
      "source": [
        "## Training history graphs"
      ]
    },
    {
      "cell_type": "code",
      "execution_count": 26,
      "id": "ed251ef9",
      "metadata": {
        "colab": {
          "base_uri": "https://localhost:8080/",
          "height": 378
        },
        "id": "ed251ef9",
        "outputId": "490cd908-49a6-40cb-c948-baedf6107f0f"
      },
      "outputs": [
        {
          "output_type": "display_data",
          "data": {
            "text/plain": [
              "<Figure size 1500x500 with 2 Axes>"
            ],
            "image/png": "[encoded data removed]"
          },
          "metadata": {}
        },
        {
          "output_type": "stream",
          "name": "stdout",
          "text": [
            "\n",
            "Best validation loss: 0.5419\n"
          ]
        }
      ],
      "source": [
        "fig, axes = plt.subplots(1, 2, figsize=(15, 5))\n",
        "\n",
        "# Plot loss\n",
        "axes[0].plot(range(1, NUM_EPOCHS+1), train_losses, 'b-', label='Training Loss', linewidth=2)\n",
        "axes[0].plot(range(1, NUM_EPOCHS+1), val_losses, 'r-', label='Validation Loss', linewidth=2)\n",
        "axes[0].set_xlabel('Epoch', fontsize=12)\n",
        "axes[0].set_ylabel('Loss', fontsize=12)\n",
        "axes[0].set_title('Training and Validation Loss', fontsize=14, fontweight='bold')\n",
        "axes[0].legend(fontsize=10)\n",
        "axes[0].grid(True, alpha=0.3)\n",
        "\n",
        "# Plot accuracy\n",
        "axes[1].plot(range(1, NUM_EPOCHS+1), train_accs, 'b-', label='Training Accuracy', linewidth=2)\n",
        "axes[1].plot(range(1, NUM_EPOCHS+1), val_accs, 'r-', label='Validation Accuracy', linewidth=2)\n",
        "axes[1].set_xlabel('Epoch', fontsize=12)\n",
        "axes[1].set_ylabel('Accuracy (%)', fontsize=12)\n",
        "axes[1].set_title('Training and Validation Accuracy', fontsize=14, fontweight='bold')\n",
        "axes[1].legend(fontsize=10)\n",
        "axes[1].grid(True, alpha=0.3)\n",
        "\n",
        "plt.tight_layout()\n",
        "plt.savefig('training_history.png', dpi=300, bbox_inches='tight')\n",
        "plt.show()\n",
        "\n",
        "print(f\"\\nBest validation loss: {best_val_loss:.4f}\")"
      ]
    },
    {
      "cell_type": "markdown",
      "id": "6c27a788",
      "metadata": {
        "id": "6c27a788"
      },
      "source": [
        "## Evaluation on test set"
      ]
    },
    {
      "cell_type": "code",
      "execution_count": 27,
      "id": "c8d30d81",
      "metadata": {
        "colab": {
          "base_uri": "https://localhost:8080/"
        },
        "id": "c8d30d81",
        "outputId": "0a07ece6-bc9a-4e10-9951-7de3de6b0ddb"
      },
      "outputs": [
        {
          "output_type": "stream",
          "name": "stdout",
          "text": [
            "\n",
            "Test Accuracy: 81.51%\n"
          ]
        }
      ],
      "source": [
        "model.eval()\n",
        "all_preds = []\n",
        "all_labels = []\n",
        "\n",
        "with torch.no_grad():\n",
        "    for images, labels in test_loader:\n",
        "        images, labels = images.to(device), labels.to(device)\n",
        "        outputs = model(images)\n",
        "        _, predicted = torch.max(outputs.data, 1)\n",
        "\n",
        "        all_preds.extend(predicted.cpu().numpy())\n",
        "        all_labels.extend(labels.cpu().numpy())\n",
        "\n",
        "# Calculate test accuracy\n",
        "test_accuracy = 100 * np.sum(np.array(all_preds) == np.array(all_labels)) / len(all_labels)\n",
        "print(f\"\\nTest Accuracy: {test_accuracy:.2f}%\")"
      ]
    }
  ],
  "metadata": {
    "kernelspec": {
      "display_name": "Python 3",
      "name": "python3"
    },
    "language_info": {
      "codemirror_mode": {
        "name": "ipython",
        "version": 3
      },
      "file_extension": ".py",
      "mimetype": "text/x-python",
      "name": "python",
      "nbconvert_exporter": "python",
      "pygments_lexer": "ipython3",
      "version": "3.13.7"
    },
    "colab": {
      "provenance": [],
      "gpuType": "T4",
      "include_colab_link": true
    },
    "accelerator": "GPU"
  },
  "nbformat": 4,
  "nbformat_minor": 5
}